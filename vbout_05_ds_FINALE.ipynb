{
 "cells": [
  {
   "cell_type": "markdown",
   "metadata": {
    "toc": true
   },
   "source": [
    "<h1>Содержание<span class=\"tocSkip\"></span></h1>\n",
    "<div class=\"toc\"><ul class=\"toc-item\"><li><span><a href=\"#Загрузка-данных\" data-toc-modified-id=\"Загрузка-данных-1\"><span class=\"toc-item-num\">1&nbsp;&nbsp;</span>Загрузка данных</a></span><ul class=\"toc-item\"><li><span><a href=\"#Выводы\" data-toc-modified-id=\"Выводы-1.1\"><span class=\"toc-item-num\">1.1&nbsp;&nbsp;</span>Выводы</a></span></li></ul></li><li><span><a href=\"#Умножение-матриц\" data-toc-modified-id=\"Умножение-матриц-2\"><span class=\"toc-item-num\">2&nbsp;&nbsp;</span>Умножение матриц</a></span><ul class=\"toc-item\"><li><span><a href=\"#Умножение-признаков-на-обратимую-матрицу\" data-toc-modified-id=\"Умножение-признаков-на-обратимую-матрицу-2.1\"><span class=\"toc-item-num\">2.1&nbsp;&nbsp;</span>Умножение признаков на обратимую матрицу</a></span><ul class=\"toc-item\"><li><span><a href=\"#Теоритическое-обоснование\" data-toc-modified-id=\"Теоритическое-обоснование-2.1.1\"><span class=\"toc-item-num\">2.1.1&nbsp;&nbsp;</span>Теоритическое обоснование</a></span></li><li><span><a href=\"#Вывод\" data-toc-modified-id=\"Вывод-2.1.2\"><span class=\"toc-item-num\">2.1.2&nbsp;&nbsp;</span>Вывод</a></span></li><li><span><a href=\"#Проверка\" data-toc-modified-id=\"Проверка-2.1.3\"><span class=\"toc-item-num\">2.1.3&nbsp;&nbsp;</span>Проверка</a></span></li></ul></li><li><span><a href=\"#Вывод\" data-toc-modified-id=\"Вывод-2.2\"><span class=\"toc-item-num\">2.2&nbsp;&nbsp;</span>Вывод</a></span></li></ul></li><li><span><a href=\"#Алгоритм-преобразования\" data-toc-modified-id=\"Алгоритм-преобразования-3\"><span class=\"toc-item-num\">3&nbsp;&nbsp;</span>Алгоритм преобразования</a></span><ul class=\"toc-item\"><li><span><a href=\"#Алгоритм\" data-toc-modified-id=\"Алгоритм-3.1\"><span class=\"toc-item-num\">3.1&nbsp;&nbsp;</span>Алгоритм</a></span></li><li><span><a href=\"#Обоснование\" data-toc-modified-id=\"Обоснование-3.2\"><span class=\"toc-item-num\">3.2&nbsp;&nbsp;</span>Обоснование</a></span></li></ul></li><li><span><a href=\"#Проверка-алгоритма\" data-toc-modified-id=\"Проверка-алгоритма-4\"><span class=\"toc-item-num\">4&nbsp;&nbsp;</span>Проверка алгоритма</a></span><ul class=\"toc-item\"><li><span><a href=\"#Линейная-регрессия-на-исходной-матрице-признаков-X\" data-toc-modified-id=\"Линейная-регрессия-на-исходной-матрице-признаков-X-4.1\"><span class=\"toc-item-num\">4.1&nbsp;&nbsp;</span>Линейная регрессия на исходной матрице признаков X</a></span></li><li><span><a href=\"#Линейная-регрессия-на-преобразованной-матрице-признаков-X_R\" data-toc-modified-id=\"Линейная-регрессия-на-преобразованной-матрице-признаков-X_R-4.2\"><span class=\"toc-item-num\">4.2&nbsp;&nbsp;</span>Линейная регрессия на преобразованной матрице признаков X_R</a></span></li><li><span><a href=\"#Выводы\" data-toc-modified-id=\"Выводы-4.3\"><span class=\"toc-item-num\">4.3&nbsp;&nbsp;</span>Выводы</a></span></li></ul></li><li><span><a href=\"#Чек-лист-проверки\" data-toc-modified-id=\"Чек-лист-проверки-5\"><span class=\"toc-item-num\">5&nbsp;&nbsp;</span>Чек-лист проверки</a></span></li></ul></div>"
   ]
  },
  {
   "cell_type": "markdown",
   "metadata": {},
   "source": [
    "# Защита персональных данных клиентов"
   ]
  },
  {
   "cell_type": "markdown",
   "metadata": {},
   "source": [
    "Необходимо защитить данные клиентов страховой компании «Хоть потоп». Требуется разработать такой метод преобразования данных, чтобы по ним было сложно восстановить персональную информацию и обосновать корректность его работы.\n",
    "\n",
    "Нужно защитить данные, чтобы при преобразовании качество моделей машинного обучения не ухудшилось. Подбирать наилучшую модель не требуется."
   ]
  },
  {
   "cell_type": "markdown",
   "metadata": {},
   "source": [
    "## Загрузка данных"
   ]
  },
  {
   "cell_type": "code",
   "execution_count": 1,
   "metadata": {},
   "outputs": [],
   "source": [
    "# подготавливаем рабочее пространство,\n",
    "# загружаем библиотеки\n",
    "import pandas as pd\n",
    "import numpy as np\n",
    "\n",
    "from sklearn.linear_model import LinearRegression\n",
    "from sklearn.model_selection import train_test_split\n",
    "from sklearn.preprocessing import StandardScaler\n",
    "from sklearn.metrics import r2_score\n",
    "\n",
    "import seaborn as sns\n",
    "import matplotlib.pyplot as plt\n",
    "\n",
    "pd.set_option('display.max_columns', None)\n",
    "pd.set_option('display.max_rows', None)"
   ]
  },
  {
   "cell_type": "code",
   "execution_count": 2,
   "metadata": {},
   "outputs": [
    {
     "name": "stdout",
     "output_type": "stream",
     "text": [
      "<class 'pandas.core.frame.DataFrame'>\n",
      "RangeIndex: 5000 entries, 0 to 4999\n",
      "Data columns (total 5 columns):\n",
      " #   Column             Non-Null Count  Dtype  \n",
      "---  ------             --------------  -----  \n",
      " 0   Пол                5000 non-null   int64  \n",
      " 1   Возраст            5000 non-null   float64\n",
      " 2   Зарплата           5000 non-null   float64\n",
      " 3   Члены семьи        5000 non-null   int64  \n",
      " 4   Страховые выплаты  5000 non-null   int64  \n",
      "dtypes: float64(2), int64(3)\n",
      "memory usage: 195.4 KB\n"
     ]
    },
    {
     "data": {
      "text/plain": [
       "None"
      ]
     },
     "metadata": {},
     "output_type": "display_data"
    },
    {
     "data": {
      "text/html": [
       "<div>\n",
       "<style scoped>\n",
       "    .dataframe tbody tr th:only-of-type {\n",
       "        vertical-align: middle;\n",
       "    }\n",
       "\n",
       "    .dataframe tbody tr th {\n",
       "        vertical-align: top;\n",
       "    }\n",
       "\n",
       "    .dataframe thead th {\n",
       "        text-align: right;\n",
       "    }\n",
       "</style>\n",
       "<table border=\"1\" class=\"dataframe\">\n",
       "  <thead>\n",
       "    <tr style=\"text-align: right;\">\n",
       "      <th></th>\n",
       "      <th>Пол</th>\n",
       "      <th>Возраст</th>\n",
       "      <th>Зарплата</th>\n",
       "      <th>Члены семьи</th>\n",
       "      <th>Страховые выплаты</th>\n",
       "    </tr>\n",
       "  </thead>\n",
       "  <tbody>\n",
       "    <tr>\n",
       "      <th>0</th>\n",
       "      <td>1</td>\n",
       "      <td>41.0</td>\n",
       "      <td>49600.0</td>\n",
       "      <td>1</td>\n",
       "      <td>0</td>\n",
       "    </tr>\n",
       "    <tr>\n",
       "      <th>1</th>\n",
       "      <td>0</td>\n",
       "      <td>46.0</td>\n",
       "      <td>38000.0</td>\n",
       "      <td>1</td>\n",
       "      <td>1</td>\n",
       "    </tr>\n",
       "    <tr>\n",
       "      <th>2</th>\n",
       "      <td>0</td>\n",
       "      <td>29.0</td>\n",
       "      <td>21000.0</td>\n",
       "      <td>0</td>\n",
       "      <td>0</td>\n",
       "    </tr>\n",
       "    <tr>\n",
       "      <th>3</th>\n",
       "      <td>0</td>\n",
       "      <td>21.0</td>\n",
       "      <td>41700.0</td>\n",
       "      <td>2</td>\n",
       "      <td>0</td>\n",
       "    </tr>\n",
       "    <tr>\n",
       "      <th>4</th>\n",
       "      <td>1</td>\n",
       "      <td>28.0</td>\n",
       "      <td>26100.0</td>\n",
       "      <td>0</td>\n",
       "      <td>0</td>\n",
       "    </tr>\n",
       "  </tbody>\n",
       "</table>\n",
       "</div>"
      ],
      "text/plain": [
       "   Пол  Возраст  Зарплата  Члены семьи  Страховые выплаты\n",
       "0    1     41.0   49600.0            1                  0\n",
       "1    0     46.0   38000.0            1                  1\n",
       "2    0     29.0   21000.0            0                  0\n",
       "3    0     21.0   41700.0            2                  0\n",
       "4    1     28.0   26100.0            0                  0"
      ]
     },
     "metadata": {},
     "output_type": "display_data"
    }
   ],
   "source": [
    "# загружаем данные,\n",
    "# выводим информацию по датасету,\n",
    "# выводим первые 5 строк\n",
    "data = pd.read_csv('/datasets/insurance.csv')\n",
    "display(data.info())\n",
    "display(data.head(5))"
   ]
  },
  {
   "cell_type": "code",
   "execution_count": 3,
   "metadata": {},
   "outputs": [
    {
     "name": "stdout",
     "output_type": "stream",
     "text": [
      "Кол-во пропусков:\n",
      " Пол                  0\n",
      "Возраст              0\n",
      "Зарплата             0\n",
      "Члены семьи          0\n",
      "Страховые выплаты    0\n",
      "dtype: int64\n"
     ]
    }
   ],
   "source": [
    "# проверяем наличие пропусков\n",
    "print('Кол-во пропусков:\\n', data.isna().sum())"
   ]
  },
  {
   "cell_type": "code",
   "execution_count": 4,
   "metadata": {},
   "outputs": [
    {
     "name": "stdout",
     "output_type": "stream",
     "text": [
      "Кол-во абсолютных дубликатов:\n",
      " 153\n"
     ]
    }
   ],
   "source": [
    "# проверяем наличие дубликатов\n",
    "print('Кол-во абсолютных дубликатов:\\n', data.duplicated().sum())"
   ]
  },
  {
   "cell_type": "code",
   "execution_count": 5,
   "metadata": {},
   "outputs": [
    {
     "data": {
      "text/html": [
       "<div>\n",
       "<style scoped>\n",
       "    .dataframe tbody tr th:only-of-type {\n",
       "        vertical-align: middle;\n",
       "    }\n",
       "\n",
       "    .dataframe tbody tr th {\n",
       "        vertical-align: top;\n",
       "    }\n",
       "\n",
       "    .dataframe thead th {\n",
       "        text-align: right;\n",
       "    }\n",
       "</style>\n",
       "<table border=\"1\" class=\"dataframe\">\n",
       "  <thead>\n",
       "    <tr style=\"text-align: right;\">\n",
       "      <th></th>\n",
       "      <th>Пол</th>\n",
       "      <th>Возраст</th>\n",
       "      <th>Зарплата</th>\n",
       "      <th>Члены семьи</th>\n",
       "      <th>Страховые выплаты</th>\n",
       "    </tr>\n",
       "  </thead>\n",
       "  <tbody>\n",
       "    <tr>\n",
       "      <th>2955</th>\n",
       "      <td>1</td>\n",
       "      <td>32.0</td>\n",
       "      <td>21600.0</td>\n",
       "      <td>0</td>\n",
       "      <td>0</td>\n",
       "    </tr>\n",
       "    <tr>\n",
       "      <th>2988</th>\n",
       "      <td>1</td>\n",
       "      <td>32.0</td>\n",
       "      <td>21600.0</td>\n",
       "      <td>0</td>\n",
       "      <td>0</td>\n",
       "    </tr>\n",
       "    <tr>\n",
       "      <th>361</th>\n",
       "      <td>0</td>\n",
       "      <td>50.0</td>\n",
       "      <td>24700.0</td>\n",
       "      <td>1</td>\n",
       "      <td>2</td>\n",
       "    </tr>\n",
       "    <tr>\n",
       "      <th>2869</th>\n",
       "      <td>0</td>\n",
       "      <td>50.0</td>\n",
       "      <td>24700.0</td>\n",
       "      <td>1</td>\n",
       "      <td>2</td>\n",
       "    </tr>\n",
       "    <tr>\n",
       "      <th>333</th>\n",
       "      <td>0</td>\n",
       "      <td>32.0</td>\n",
       "      <td>25600.0</td>\n",
       "      <td>1</td>\n",
       "      <td>0</td>\n",
       "    </tr>\n",
       "    <tr>\n",
       "      <th>4230</th>\n",
       "      <td>0</td>\n",
       "      <td>32.0</td>\n",
       "      <td>25600.0</td>\n",
       "      <td>1</td>\n",
       "      <td>0</td>\n",
       "    </tr>\n",
       "    <tr>\n",
       "      <th>1378</th>\n",
       "      <td>0</td>\n",
       "      <td>36.0</td>\n",
       "      <td>26400.0</td>\n",
       "      <td>0</td>\n",
       "      <td>0</td>\n",
       "    </tr>\n",
       "    <tr>\n",
       "      <th>2723</th>\n",
       "      <td>0</td>\n",
       "      <td>36.0</td>\n",
       "      <td>26400.0</td>\n",
       "      <td>0</td>\n",
       "      <td>0</td>\n",
       "    </tr>\n",
       "    <tr>\n",
       "      <th>1002</th>\n",
       "      <td>1</td>\n",
       "      <td>34.0</td>\n",
       "      <td>26900.0</td>\n",
       "      <td>0</td>\n",
       "      <td>0</td>\n",
       "    </tr>\n",
       "    <tr>\n",
       "      <th>1140</th>\n",
       "      <td>1</td>\n",
       "      <td>34.0</td>\n",
       "      <td>26900.0</td>\n",
       "      <td>0</td>\n",
       "      <td>0</td>\n",
       "    </tr>\n",
       "    <tr>\n",
       "      <th>1678</th>\n",
       "      <td>1</td>\n",
       "      <td>31.0</td>\n",
       "      <td>27900.0</td>\n",
       "      <td>1</td>\n",
       "      <td>0</td>\n",
       "    </tr>\n",
       "    <tr>\n",
       "      <th>2565</th>\n",
       "      <td>1</td>\n",
       "      <td>31.0</td>\n",
       "      <td>27900.0</td>\n",
       "      <td>1</td>\n",
       "      <td>0</td>\n",
       "    </tr>\n",
       "    <tr>\n",
       "      <th>471</th>\n",
       "      <td>1</td>\n",
       "      <td>30.0</td>\n",
       "      <td>28200.0</td>\n",
       "      <td>0</td>\n",
       "      <td>0</td>\n",
       "    </tr>\n",
       "    <tr>\n",
       "      <th>3315</th>\n",
       "      <td>1</td>\n",
       "      <td>30.0</td>\n",
       "      <td>28200.0</td>\n",
       "      <td>0</td>\n",
       "      <td>0</td>\n",
       "    </tr>\n",
       "    <tr>\n",
       "      <th>720</th>\n",
       "      <td>0</td>\n",
       "      <td>25.0</td>\n",
       "      <td>28300.0</td>\n",
       "      <td>0</td>\n",
       "      <td>0</td>\n",
       "    </tr>\n",
       "    <tr>\n",
       "      <th>2501</th>\n",
       "      <td>0</td>\n",
       "      <td>25.0</td>\n",
       "      <td>28300.0</td>\n",
       "      <td>0</td>\n",
       "      <td>0</td>\n",
       "    </tr>\n",
       "    <tr>\n",
       "      <th>3119</th>\n",
       "      <td>1</td>\n",
       "      <td>31.0</td>\n",
       "      <td>28400.0</td>\n",
       "      <td>1</td>\n",
       "      <td>0</td>\n",
       "    </tr>\n",
       "    <tr>\n",
       "      <th>4189</th>\n",
       "      <td>1</td>\n",
       "      <td>31.0</td>\n",
       "      <td>28400.0</td>\n",
       "      <td>1</td>\n",
       "      <td>0</td>\n",
       "    </tr>\n",
       "    <tr>\n",
       "      <th>3333</th>\n",
       "      <td>0</td>\n",
       "      <td>36.0</td>\n",
       "      <td>29700.0</td>\n",
       "      <td>2</td>\n",
       "      <td>0</td>\n",
       "    </tr>\n",
       "    <tr>\n",
       "      <th>2519</th>\n",
       "      <td>0</td>\n",
       "      <td>36.0</td>\n",
       "      <td>29700.0</td>\n",
       "      <td>2</td>\n",
       "      <td>0</td>\n",
       "    </tr>\n",
       "    <tr>\n",
       "      <th>2274</th>\n",
       "      <td>1</td>\n",
       "      <td>41.0</td>\n",
       "      <td>30200.0</td>\n",
       "      <td>0</td>\n",
       "      <td>0</td>\n",
       "    </tr>\n",
       "    <tr>\n",
       "      <th>1093</th>\n",
       "      <td>1</td>\n",
       "      <td>41.0</td>\n",
       "      <td>30200.0</td>\n",
       "      <td>0</td>\n",
       "      <td>0</td>\n",
       "    </tr>\n",
       "    <tr>\n",
       "      <th>947</th>\n",
       "      <td>1</td>\n",
       "      <td>37.0</td>\n",
       "      <td>31200.0</td>\n",
       "      <td>2</td>\n",
       "      <td>0</td>\n",
       "    </tr>\n",
       "    <tr>\n",
       "      <th>1251</th>\n",
       "      <td>1</td>\n",
       "      <td>37.0</td>\n",
       "      <td>31200.0</td>\n",
       "      <td>2</td>\n",
       "      <td>0</td>\n",
       "    </tr>\n",
       "    <tr>\n",
       "      <th>1255</th>\n",
       "      <td>0</td>\n",
       "      <td>30.0</td>\n",
       "      <td>31400.0</td>\n",
       "      <td>2</td>\n",
       "      <td>0</td>\n",
       "    </tr>\n",
       "    <tr>\n",
       "      <th>1487</th>\n",
       "      <td>0</td>\n",
       "      <td>38.0</td>\n",
       "      <td>31400.0</td>\n",
       "      <td>1</td>\n",
       "      <td>0</td>\n",
       "    </tr>\n",
       "    <tr>\n",
       "      <th>4764</th>\n",
       "      <td>0</td>\n",
       "      <td>30.0</td>\n",
       "      <td>31400.0</td>\n",
       "      <td>2</td>\n",
       "      <td>0</td>\n",
       "    </tr>\n",
       "    <tr>\n",
       "      <th>4202</th>\n",
       "      <td>0</td>\n",
       "      <td>38.0</td>\n",
       "      <td>31400.0</td>\n",
       "      <td>1</td>\n",
       "      <td>0</td>\n",
       "    </tr>\n",
       "    <tr>\n",
       "      <th>2175</th>\n",
       "      <td>0</td>\n",
       "      <td>36.0</td>\n",
       "      <td>31500.0</td>\n",
       "      <td>2</td>\n",
       "      <td>0</td>\n",
       "    </tr>\n",
       "    <tr>\n",
       "      <th>4239</th>\n",
       "      <td>0</td>\n",
       "      <td>36.0</td>\n",
       "      <td>31500.0</td>\n",
       "      <td>2</td>\n",
       "      <td>0</td>\n",
       "    </tr>\n",
       "    <tr>\n",
       "      <th>1166</th>\n",
       "      <td>0</td>\n",
       "      <td>35.0</td>\n",
       "      <td>31600.0</td>\n",
       "      <td>0</td>\n",
       "      <td>0</td>\n",
       "    </tr>\n",
       "    <tr>\n",
       "      <th>3161</th>\n",
       "      <td>0</td>\n",
       "      <td>35.0</td>\n",
       "      <td>31600.0</td>\n",
       "      <td>0</td>\n",
       "      <td>0</td>\n",
       "    </tr>\n",
       "    <tr>\n",
       "      <th>2176</th>\n",
       "      <td>0</td>\n",
       "      <td>36.0</td>\n",
       "      <td>31700.0</td>\n",
       "      <td>1</td>\n",
       "      <td>0</td>\n",
       "    </tr>\n",
       "    <tr>\n",
       "      <th>1666</th>\n",
       "      <td>0</td>\n",
       "      <td>36.0</td>\n",
       "      <td>31700.0</td>\n",
       "      <td>1</td>\n",
       "      <td>0</td>\n",
       "    </tr>\n",
       "    <tr>\n",
       "      <th>4726</th>\n",
       "      <td>1</td>\n",
       "      <td>19.0</td>\n",
       "      <td>31700.0</td>\n",
       "      <td>1</td>\n",
       "      <td>0</td>\n",
       "    </tr>\n",
       "    <tr>\n",
       "      <th>4053</th>\n",
       "      <td>1</td>\n",
       "      <td>19.0</td>\n",
       "      <td>31700.0</td>\n",
       "      <td>1</td>\n",
       "      <td>0</td>\n",
       "    </tr>\n",
       "    <tr>\n",
       "      <th>3396</th>\n",
       "      <td>0</td>\n",
       "      <td>22.0</td>\n",
       "      <td>32400.0</td>\n",
       "      <td>2</td>\n",
       "      <td>0</td>\n",
       "    </tr>\n",
       "    <tr>\n",
       "      <th>3968</th>\n",
       "      <td>0</td>\n",
       "      <td>22.0</td>\n",
       "      <td>32400.0</td>\n",
       "      <td>2</td>\n",
       "      <td>0</td>\n",
       "    </tr>\n",
       "    <tr>\n",
       "      <th>489</th>\n",
       "      <td>1</td>\n",
       "      <td>22.0</td>\n",
       "      <td>32600.0</td>\n",
       "      <td>1</td>\n",
       "      <td>0</td>\n",
       "    </tr>\n",
       "    <tr>\n",
       "      <th>718</th>\n",
       "      <td>1</td>\n",
       "      <td>22.0</td>\n",
       "      <td>32600.0</td>\n",
       "      <td>1</td>\n",
       "      <td>0</td>\n",
       "    </tr>\n",
       "    <tr>\n",
       "      <th>1485</th>\n",
       "      <td>1</td>\n",
       "      <td>41.0</td>\n",
       "      <td>32700.0</td>\n",
       "      <td>0</td>\n",
       "      <td>0</td>\n",
       "    </tr>\n",
       "    <tr>\n",
       "      <th>4935</th>\n",
       "      <td>1</td>\n",
       "      <td>19.0</td>\n",
       "      <td>32700.0</td>\n",
       "      <td>0</td>\n",
       "      <td>0</td>\n",
       "    </tr>\n",
       "    <tr>\n",
       "      <th>1336</th>\n",
       "      <td>1</td>\n",
       "      <td>19.0</td>\n",
       "      <td>32700.0</td>\n",
       "      <td>0</td>\n",
       "      <td>0</td>\n",
       "    </tr>\n",
       "    <tr>\n",
       "      <th>80</th>\n",
       "      <td>1</td>\n",
       "      <td>41.0</td>\n",
       "      <td>32700.0</td>\n",
       "      <td>0</td>\n",
       "      <td>0</td>\n",
       "    </tr>\n",
       "    <tr>\n",
       "      <th>488</th>\n",
       "      <td>1</td>\n",
       "      <td>24.0</td>\n",
       "      <td>32900.0</td>\n",
       "      <td>1</td>\n",
       "      <td>0</td>\n",
       "    </tr>\n",
       "    <tr>\n",
       "      <th>411</th>\n",
       "      <td>1</td>\n",
       "      <td>24.0</td>\n",
       "      <td>32900.0</td>\n",
       "      <td>1</td>\n",
       "      <td>0</td>\n",
       "    </tr>\n",
       "    <tr>\n",
       "      <th>1758</th>\n",
       "      <td>1</td>\n",
       "      <td>23.0</td>\n",
       "      <td>33100.0</td>\n",
       "      <td>1</td>\n",
       "      <td>0</td>\n",
       "    </tr>\n",
       "    <tr>\n",
       "      <th>1049</th>\n",
       "      <td>1</td>\n",
       "      <td>23.0</td>\n",
       "      <td>33100.0</td>\n",
       "      <td>1</td>\n",
       "      <td>0</td>\n",
       "    </tr>\n",
       "    <tr>\n",
       "      <th>869</th>\n",
       "      <td>1</td>\n",
       "      <td>24.0</td>\n",
       "      <td>33100.0</td>\n",
       "      <td>1</td>\n",
       "      <td>0</td>\n",
       "    </tr>\n",
       "    <tr>\n",
       "      <th>88</th>\n",
       "      <td>1</td>\n",
       "      <td>24.0</td>\n",
       "      <td>33100.0</td>\n",
       "      <td>1</td>\n",
       "      <td>0</td>\n",
       "    </tr>\n",
       "    <tr>\n",
       "      <th>4351</th>\n",
       "      <td>1</td>\n",
       "      <td>25.0</td>\n",
       "      <td>33400.0</td>\n",
       "      <td>1</td>\n",
       "      <td>0</td>\n",
       "    </tr>\n",
       "    <tr>\n",
       "      <th>896</th>\n",
       "      <td>1</td>\n",
       "      <td>25.0</td>\n",
       "      <td>33400.0</td>\n",
       "      <td>1</td>\n",
       "      <td>0</td>\n",
       "    </tr>\n",
       "    <tr>\n",
       "      <th>4702</th>\n",
       "      <td>0</td>\n",
       "      <td>33.0</td>\n",
       "      <td>33700.0</td>\n",
       "      <td>2</td>\n",
       "      <td>0</td>\n",
       "    </tr>\n",
       "    <tr>\n",
       "      <th>3019</th>\n",
       "      <td>0</td>\n",
       "      <td>33.0</td>\n",
       "      <td>33700.0</td>\n",
       "      <td>2</td>\n",
       "      <td>0</td>\n",
       "    </tr>\n",
       "    <tr>\n",
       "      <th>2662</th>\n",
       "      <td>0</td>\n",
       "      <td>22.0</td>\n",
       "      <td>33800.0</td>\n",
       "      <td>1</td>\n",
       "      <td>0</td>\n",
       "    </tr>\n",
       "    <tr>\n",
       "      <th>119</th>\n",
       "      <td>0</td>\n",
       "      <td>22.0</td>\n",
       "      <td>33800.0</td>\n",
       "      <td>1</td>\n",
       "      <td>0</td>\n",
       "    </tr>\n",
       "    <tr>\n",
       "      <th>978</th>\n",
       "      <td>0</td>\n",
       "      <td>31.0</td>\n",
       "      <td>33900.0</td>\n",
       "      <td>0</td>\n",
       "      <td>0</td>\n",
       "    </tr>\n",
       "    <tr>\n",
       "      <th>3395</th>\n",
       "      <td>0</td>\n",
       "      <td>31.0</td>\n",
       "      <td>33900.0</td>\n",
       "      <td>0</td>\n",
       "      <td>0</td>\n",
       "    </tr>\n",
       "    <tr>\n",
       "      <th>1091</th>\n",
       "      <td>1</td>\n",
       "      <td>41.0</td>\n",
       "      <td>34000.0</td>\n",
       "      <td>1</td>\n",
       "      <td>0</td>\n",
       "    </tr>\n",
       "    <tr>\n",
       "      <th>134</th>\n",
       "      <td>1</td>\n",
       "      <td>41.0</td>\n",
       "      <td>34000.0</td>\n",
       "      <td>1</td>\n",
       "      <td>0</td>\n",
       "    </tr>\n",
       "    <tr>\n",
       "      <th>2460</th>\n",
       "      <td>0</td>\n",
       "      <td>27.0</td>\n",
       "      <td>34200.0</td>\n",
       "      <td>2</td>\n",
       "      <td>0</td>\n",
       "    </tr>\n",
       "    <tr>\n",
       "      <th>2243</th>\n",
       "      <td>0</td>\n",
       "      <td>27.0</td>\n",
       "      <td>34200.0</td>\n",
       "      <td>2</td>\n",
       "      <td>0</td>\n",
       "    </tr>\n",
       "    <tr>\n",
       "      <th>2734</th>\n",
       "      <td>0</td>\n",
       "      <td>32.0</td>\n",
       "      <td>34300.0</td>\n",
       "      <td>1</td>\n",
       "      <td>0</td>\n",
       "    </tr>\n",
       "    <tr>\n",
       "      <th>3763</th>\n",
       "      <td>0</td>\n",
       "      <td>32.0</td>\n",
       "      <td>34300.0</td>\n",
       "      <td>1</td>\n",
       "      <td>0</td>\n",
       "    </tr>\n",
       "    <tr>\n",
       "      <th>4021</th>\n",
       "      <td>1</td>\n",
       "      <td>35.0</td>\n",
       "      <td>34900.0</td>\n",
       "      <td>1</td>\n",
       "      <td>0</td>\n",
       "    </tr>\n",
       "    <tr>\n",
       "      <th>4301</th>\n",
       "      <td>1</td>\n",
       "      <td>35.0</td>\n",
       "      <td>34900.0</td>\n",
       "      <td>1</td>\n",
       "      <td>0</td>\n",
       "    </tr>\n",
       "    <tr>\n",
       "      <th>4041</th>\n",
       "      <td>1</td>\n",
       "      <td>36.0</td>\n",
       "      <td>35000.0</td>\n",
       "      <td>1</td>\n",
       "      <td>0</td>\n",
       "    </tr>\n",
       "    <tr>\n",
       "      <th>3101</th>\n",
       "      <td>1</td>\n",
       "      <td>36.0</td>\n",
       "      <td>35000.0</td>\n",
       "      <td>1</td>\n",
       "      <td>0</td>\n",
       "    </tr>\n",
       "    <tr>\n",
       "      <th>2602</th>\n",
       "      <td>1</td>\n",
       "      <td>27.0</td>\n",
       "      <td>35000.0</td>\n",
       "      <td>1</td>\n",
       "      <td>0</td>\n",
       "    </tr>\n",
       "    <tr>\n",
       "      <th>1083</th>\n",
       "      <td>1</td>\n",
       "      <td>27.0</td>\n",
       "      <td>35000.0</td>\n",
       "      <td>1</td>\n",
       "      <td>0</td>\n",
       "    </tr>\n",
       "    <tr>\n",
       "      <th>773</th>\n",
       "      <td>0</td>\n",
       "      <td>21.0</td>\n",
       "      <td>35300.0</td>\n",
       "      <td>1</td>\n",
       "      <td>0</td>\n",
       "    </tr>\n",
       "    <tr>\n",
       "      <th>3176</th>\n",
       "      <td>0</td>\n",
       "      <td>21.0</td>\n",
       "      <td>35300.0</td>\n",
       "      <td>1</td>\n",
       "      <td>0</td>\n",
       "    </tr>\n",
       "    <tr>\n",
       "      <th>3988</th>\n",
       "      <td>1</td>\n",
       "      <td>24.0</td>\n",
       "      <td>35300.0</td>\n",
       "      <td>0</td>\n",
       "      <td>0</td>\n",
       "    </tr>\n",
       "    <tr>\n",
       "      <th>683</th>\n",
       "      <td>1</td>\n",
       "      <td>24.0</td>\n",
       "      <td>35300.0</td>\n",
       "      <td>0</td>\n",
       "      <td>0</td>\n",
       "    </tr>\n",
       "    <tr>\n",
       "      <th>1346</th>\n",
       "      <td>0</td>\n",
       "      <td>26.0</td>\n",
       "      <td>35400.0</td>\n",
       "      <td>1</td>\n",
       "      <td>0</td>\n",
       "    </tr>\n",
       "    <tr>\n",
       "      <th>4592</th>\n",
       "      <td>0</td>\n",
       "      <td>26.0</td>\n",
       "      <td>35400.0</td>\n",
       "      <td>1</td>\n",
       "      <td>0</td>\n",
       "    </tr>\n",
       "    <tr>\n",
       "      <th>887</th>\n",
       "      <td>1</td>\n",
       "      <td>19.0</td>\n",
       "      <td>35500.0</td>\n",
       "      <td>0</td>\n",
       "      <td>0</td>\n",
       "    </tr>\n",
       "    <tr>\n",
       "      <th>664</th>\n",
       "      <td>1</td>\n",
       "      <td>19.0</td>\n",
       "      <td>35500.0</td>\n",
       "      <td>0</td>\n",
       "      <td>0</td>\n",
       "    </tr>\n",
       "    <tr>\n",
       "      <th>4129</th>\n",
       "      <td>1</td>\n",
       "      <td>19.0</td>\n",
       "      <td>35600.0</td>\n",
       "      <td>2</td>\n",
       "      <td>0</td>\n",
       "    </tr>\n",
       "    <tr>\n",
       "      <th>731</th>\n",
       "      <td>1</td>\n",
       "      <td>19.0</td>\n",
       "      <td>35600.0</td>\n",
       "      <td>2</td>\n",
       "      <td>0</td>\n",
       "    </tr>\n",
       "    <tr>\n",
       "      <th>785</th>\n",
       "      <td>0</td>\n",
       "      <td>20.0</td>\n",
       "      <td>35800.0</td>\n",
       "      <td>0</td>\n",
       "      <td>0</td>\n",
       "    </tr>\n",
       "    <tr>\n",
       "      <th>688</th>\n",
       "      <td>0</td>\n",
       "      <td>20.0</td>\n",
       "      <td>35800.0</td>\n",
       "      <td>0</td>\n",
       "      <td>0</td>\n",
       "    </tr>\n",
       "    <tr>\n",
       "      <th>3999</th>\n",
       "      <td>0</td>\n",
       "      <td>26.0</td>\n",
       "      <td>36000.0</td>\n",
       "      <td>0</td>\n",
       "      <td>0</td>\n",
       "    </tr>\n",
       "    <tr>\n",
       "      <th>2158</th>\n",
       "      <td>0</td>\n",
       "      <td>26.0</td>\n",
       "      <td>36000.0</td>\n",
       "      <td>0</td>\n",
       "      <td>0</td>\n",
       "    </tr>\n",
       "    <tr>\n",
       "      <th>2553</th>\n",
       "      <td>0</td>\n",
       "      <td>26.0</td>\n",
       "      <td>36100.0</td>\n",
       "      <td>1</td>\n",
       "      <td>0</td>\n",
       "    </tr>\n",
       "    <tr>\n",
       "      <th>636</th>\n",
       "      <td>0</td>\n",
       "      <td>26.0</td>\n",
       "      <td>36100.0</td>\n",
       "      <td>1</td>\n",
       "      <td>0</td>\n",
       "    </tr>\n",
       "    <tr>\n",
       "      <th>2840</th>\n",
       "      <td>1</td>\n",
       "      <td>22.0</td>\n",
       "      <td>36200.0</td>\n",
       "      <td>1</td>\n",
       "      <td>0</td>\n",
       "    </tr>\n",
       "    <tr>\n",
       "      <th>1633</th>\n",
       "      <td>1</td>\n",
       "      <td>22.0</td>\n",
       "      <td>36200.0</td>\n",
       "      <td>1</td>\n",
       "      <td>0</td>\n",
       "    </tr>\n",
       "    <tr>\n",
       "      <th>3791</th>\n",
       "      <td>1</td>\n",
       "      <td>21.0</td>\n",
       "      <td>36300.0</td>\n",
       "      <td>0</td>\n",
       "      <td>0</td>\n",
       "    </tr>\n",
       "    <tr>\n",
       "      <th>1092</th>\n",
       "      <td>1</td>\n",
       "      <td>21.0</td>\n",
       "      <td>36300.0</td>\n",
       "      <td>0</td>\n",
       "      <td>0</td>\n",
       "    </tr>\n",
       "    <tr>\n",
       "      <th>1313</th>\n",
       "      <td>0</td>\n",
       "      <td>20.0</td>\n",
       "      <td>36800.0</td>\n",
       "      <td>0</td>\n",
       "      <td>0</td>\n",
       "    </tr>\n",
       "    <tr>\n",
       "      <th>2654</th>\n",
       "      <td>0</td>\n",
       "      <td>20.0</td>\n",
       "      <td>36800.0</td>\n",
       "      <td>0</td>\n",
       "      <td>0</td>\n",
       "    </tr>\n",
       "    <tr>\n",
       "      <th>1559</th>\n",
       "      <td>1</td>\n",
       "      <td>32.0</td>\n",
       "      <td>36900.0</td>\n",
       "      <td>0</td>\n",
       "      <td>0</td>\n",
       "    </tr>\n",
       "    <tr>\n",
       "      <th>476</th>\n",
       "      <td>1</td>\n",
       "      <td>32.0</td>\n",
       "      <td>36900.0</td>\n",
       "      <td>0</td>\n",
       "      <td>0</td>\n",
       "    </tr>\n",
       "    <tr>\n",
       "      <th>2375</th>\n",
       "      <td>0</td>\n",
       "      <td>23.0</td>\n",
       "      <td>37000.0</td>\n",
       "      <td>2</td>\n",
       "      <td>0</td>\n",
       "    </tr>\n",
       "    <tr>\n",
       "      <th>3218</th>\n",
       "      <td>0</td>\n",
       "      <td>23.0</td>\n",
       "      <td>37000.0</td>\n",
       "      <td>2</td>\n",
       "      <td>0</td>\n",
       "    </tr>\n",
       "    <tr>\n",
       "      <th>1948</th>\n",
       "      <td>0</td>\n",
       "      <td>27.0</td>\n",
       "      <td>37100.0</td>\n",
       "      <td>1</td>\n",
       "      <td>0</td>\n",
       "    </tr>\n",
       "    <tr>\n",
       "      <th>4240</th>\n",
       "      <td>0</td>\n",
       "      <td>27.0</td>\n",
       "      <td>37100.0</td>\n",
       "      <td>1</td>\n",
       "      <td>0</td>\n",
       "    </tr>\n",
       "    <tr>\n",
       "      <th>4306</th>\n",
       "      <td>0</td>\n",
       "      <td>21.0</td>\n",
       "      <td>37200.0</td>\n",
       "      <td>0</td>\n",
       "      <td>0</td>\n",
       "    </tr>\n",
       "    <tr>\n",
       "      <th>2854</th>\n",
       "      <td>0</td>\n",
       "      <td>21.0</td>\n",
       "      <td>37200.0</td>\n",
       "      <td>0</td>\n",
       "      <td>0</td>\n",
       "    </tr>\n",
       "    <tr>\n",
       "      <th>843</th>\n",
       "      <td>1</td>\n",
       "      <td>31.0</td>\n",
       "      <td>37200.0</td>\n",
       "      <td>1</td>\n",
       "      <td>0</td>\n",
       "    </tr>\n",
       "    <tr>\n",
       "      <th>3141</th>\n",
       "      <td>0</td>\n",
       "      <td>21.0</td>\n",
       "      <td>37200.0</td>\n",
       "      <td>0</td>\n",
       "      <td>0</td>\n",
       "    </tr>\n",
       "    <tr>\n",
       "      <th>2486</th>\n",
       "      <td>1</td>\n",
       "      <td>31.0</td>\n",
       "      <td>37200.0</td>\n",
       "      <td>1</td>\n",
       "      <td>0</td>\n",
       "    </tr>\n",
       "    <tr>\n",
       "      <th>721</th>\n",
       "      <td>0</td>\n",
       "      <td>37.0</td>\n",
       "      <td>37300.0</td>\n",
       "      <td>1</td>\n",
       "      <td>0</td>\n",
       "    </tr>\n",
       "    <tr>\n",
       "      <th>2819</th>\n",
       "      <td>0</td>\n",
       "      <td>37.0</td>\n",
       "      <td>37300.0</td>\n",
       "      <td>1</td>\n",
       "      <td>0</td>\n",
       "    </tr>\n",
       "    <tr>\n",
       "      <th>4580</th>\n",
       "      <td>1</td>\n",
       "      <td>27.0</td>\n",
       "      <td>37300.0</td>\n",
       "      <td>0</td>\n",
       "      <td>0</td>\n",
       "    </tr>\n",
       "    <tr>\n",
       "      <th>568</th>\n",
       "      <td>1</td>\n",
       "      <td>27.0</td>\n",
       "      <td>37300.0</td>\n",
       "      <td>0</td>\n",
       "      <td>0</td>\n",
       "    </tr>\n",
       "    <tr>\n",
       "      <th>4781</th>\n",
       "      <td>1</td>\n",
       "      <td>40.0</td>\n",
       "      <td>37400.0</td>\n",
       "      <td>2</td>\n",
       "      <td>0</td>\n",
       "    </tr>\n",
       "    <tr>\n",
       "      <th>68</th>\n",
       "      <td>1</td>\n",
       "      <td>20.0</td>\n",
       "      <td>37400.0</td>\n",
       "      <td>2</td>\n",
       "      <td>0</td>\n",
       "    </tr>\n",
       "    <tr>\n",
       "      <th>82</th>\n",
       "      <td>0</td>\n",
       "      <td>31.0</td>\n",
       "      <td>37400.0</td>\n",
       "      <td>2</td>\n",
       "      <td>0</td>\n",
       "    </tr>\n",
       "    <tr>\n",
       "      <th>4084</th>\n",
       "      <td>1</td>\n",
       "      <td>40.0</td>\n",
       "      <td>37400.0</td>\n",
       "      <td>2</td>\n",
       "      <td>0</td>\n",
       "    </tr>\n",
       "    <tr>\n",
       "      <th>1340</th>\n",
       "      <td>1</td>\n",
       "      <td>20.0</td>\n",
       "      <td>37400.0</td>\n",
       "      <td>2</td>\n",
       "      <td>0</td>\n",
       "    </tr>\n",
       "    <tr>\n",
       "      <th>513</th>\n",
       "      <td>0</td>\n",
       "      <td>31.0</td>\n",
       "      <td>37400.0</td>\n",
       "      <td>2</td>\n",
       "      <td>0</td>\n",
       "    </tr>\n",
       "    <tr>\n",
       "      <th>223</th>\n",
       "      <td>1</td>\n",
       "      <td>34.0</td>\n",
       "      <td>37500.0</td>\n",
       "      <td>1</td>\n",
       "      <td>0</td>\n",
       "    </tr>\n",
       "    <tr>\n",
       "      <th>3257</th>\n",
       "      <td>1</td>\n",
       "      <td>34.0</td>\n",
       "      <td>37500.0</td>\n",
       "      <td>1</td>\n",
       "      <td>0</td>\n",
       "    </tr>\n",
       "    <tr>\n",
       "      <th>2526</th>\n",
       "      <td>0</td>\n",
       "      <td>25.0</td>\n",
       "      <td>37600.0</td>\n",
       "      <td>1</td>\n",
       "      <td>0</td>\n",
       "    </tr>\n",
       "    <tr>\n",
       "      <th>2458</th>\n",
       "      <td>0</td>\n",
       "      <td>25.0</td>\n",
       "      <td>37600.0</td>\n",
       "      <td>1</td>\n",
       "      <td>0</td>\n",
       "    </tr>\n",
       "    <tr>\n",
       "      <th>4793</th>\n",
       "      <td>1</td>\n",
       "      <td>24.0</td>\n",
       "      <td>37800.0</td>\n",
       "      <td>0</td>\n",
       "      <td>0</td>\n",
       "    </tr>\n",
       "    <tr>\n",
       "      <th>1728</th>\n",
       "      <td>0</td>\n",
       "      <td>30.0</td>\n",
       "      <td>37800.0</td>\n",
       "      <td>0</td>\n",
       "      <td>0</td>\n",
       "    </tr>\n",
       "    <tr>\n",
       "      <th>2307</th>\n",
       "      <td>0</td>\n",
       "      <td>22.0</td>\n",
       "      <td>37800.0</td>\n",
       "      <td>1</td>\n",
       "      <td>0</td>\n",
       "    </tr>\n",
       "    <tr>\n",
       "      <th>2975</th>\n",
       "      <td>1</td>\n",
       "      <td>24.0</td>\n",
       "      <td>37800.0</td>\n",
       "      <td>0</td>\n",
       "      <td>0</td>\n",
       "    </tr>\n",
       "    <tr>\n",
       "      <th>3136</th>\n",
       "      <td>0</td>\n",
       "      <td>22.0</td>\n",
       "      <td>37800.0</td>\n",
       "      <td>1</td>\n",
       "      <td>0</td>\n",
       "    </tr>\n",
       "    <tr>\n",
       "      <th>1087</th>\n",
       "      <td>0</td>\n",
       "      <td>30.0</td>\n",
       "      <td>37800.0</td>\n",
       "      <td>0</td>\n",
       "      <td>0</td>\n",
       "    </tr>\n",
       "    <tr>\n",
       "      <th>1751</th>\n",
       "      <td>0</td>\n",
       "      <td>19.0</td>\n",
       "      <td>38600.0</td>\n",
       "      <td>0</td>\n",
       "      <td>0</td>\n",
       "    </tr>\n",
       "    <tr>\n",
       "      <th>3268</th>\n",
       "      <td>0</td>\n",
       "      <td>19.0</td>\n",
       "      <td>38600.0</td>\n",
       "      <td>0</td>\n",
       "      <td>0</td>\n",
       "    </tr>\n",
       "    <tr>\n",
       "      <th>4902</th>\n",
       "      <td>1</td>\n",
       "      <td>35.0</td>\n",
       "      <td>38700.0</td>\n",
       "      <td>1</td>\n",
       "      <td>0</td>\n",
       "    </tr>\n",
       "    <tr>\n",
       "      <th>1815</th>\n",
       "      <td>1</td>\n",
       "      <td>27.0</td>\n",
       "      <td>38700.0</td>\n",
       "      <td>2</td>\n",
       "      <td>0</td>\n",
       "    </tr>\n",
       "    <tr>\n",
       "      <th>4012</th>\n",
       "      <td>1</td>\n",
       "      <td>35.0</td>\n",
       "      <td>38700.0</td>\n",
       "      <td>1</td>\n",
       "      <td>0</td>\n",
       "    </tr>\n",
       "    <tr>\n",
       "      <th>1116</th>\n",
       "      <td>1</td>\n",
       "      <td>27.0</td>\n",
       "      <td>38700.0</td>\n",
       "      <td>2</td>\n",
       "      <td>0</td>\n",
       "    </tr>\n",
       "    <tr>\n",
       "      <th>4259</th>\n",
       "      <td>1</td>\n",
       "      <td>40.0</td>\n",
       "      <td>39300.0</td>\n",
       "      <td>0</td>\n",
       "      <td>0</td>\n",
       "    </tr>\n",
       "    <tr>\n",
       "      <th>4425</th>\n",
       "      <td>1</td>\n",
       "      <td>40.0</td>\n",
       "      <td>39300.0</td>\n",
       "      <td>0</td>\n",
       "      <td>0</td>\n",
       "    </tr>\n",
       "    <tr>\n",
       "      <th>1598</th>\n",
       "      <td>0</td>\n",
       "      <td>28.0</td>\n",
       "      <td>39800.0</td>\n",
       "      <td>1</td>\n",
       "      <td>0</td>\n",
       "    </tr>\n",
       "    <tr>\n",
       "      <th>3648</th>\n",
       "      <td>1</td>\n",
       "      <td>28.0</td>\n",
       "      <td>39800.0</td>\n",
       "      <td>2</td>\n",
       "      <td>0</td>\n",
       "    </tr>\n",
       "    <tr>\n",
       "      <th>2334</th>\n",
       "      <td>1</td>\n",
       "      <td>28.0</td>\n",
       "      <td>39800.0</td>\n",
       "      <td>2</td>\n",
       "      <td>0</td>\n",
       "    </tr>\n",
       "    <tr>\n",
       "      <th>2881</th>\n",
       "      <td>0</td>\n",
       "      <td>28.0</td>\n",
       "      <td>39800.0</td>\n",
       "      <td>1</td>\n",
       "      <td>0</td>\n",
       "    </tr>\n",
       "    <tr>\n",
       "      <th>1189</th>\n",
       "      <td>0</td>\n",
       "      <td>28.0</td>\n",
       "      <td>39800.0</td>\n",
       "      <td>1</td>\n",
       "      <td>0</td>\n",
       "    </tr>\n",
       "    <tr>\n",
       "      <th>1566</th>\n",
       "      <td>1</td>\n",
       "      <td>18.0</td>\n",
       "      <td>39800.0</td>\n",
       "      <td>2</td>\n",
       "      <td>0</td>\n",
       "    </tr>\n",
       "    <tr>\n",
       "      <th>2429</th>\n",
       "      <td>1</td>\n",
       "      <td>18.0</td>\n",
       "      <td>39800.0</td>\n",
       "      <td>2</td>\n",
       "      <td>0</td>\n",
       "    </tr>\n",
       "    <tr>\n",
       "      <th>3533</th>\n",
       "      <td>0</td>\n",
       "      <td>28.0</td>\n",
       "      <td>39900.0</td>\n",
       "      <td>0</td>\n",
       "      <td>0</td>\n",
       "    </tr>\n",
       "    <tr>\n",
       "      <th>4664</th>\n",
       "      <td>0</td>\n",
       "      <td>28.0</td>\n",
       "      <td>39900.0</td>\n",
       "      <td>0</td>\n",
       "      <td>0</td>\n",
       "    </tr>\n",
       "    <tr>\n",
       "      <th>1537</th>\n",
       "      <td>0</td>\n",
       "      <td>34.0</td>\n",
       "      <td>39900.0</td>\n",
       "      <td>0</td>\n",
       "      <td>0</td>\n",
       "    </tr>\n",
       "    <tr>\n",
       "      <th>2470</th>\n",
       "      <td>0</td>\n",
       "      <td>34.0</td>\n",
       "      <td>39900.0</td>\n",
       "      <td>0</td>\n",
       "      <td>0</td>\n",
       "    </tr>\n",
       "    <tr>\n",
       "      <th>4965</th>\n",
       "      <td>0</td>\n",
       "      <td>22.0</td>\n",
       "      <td>40100.0</td>\n",
       "      <td>1</td>\n",
       "      <td>0</td>\n",
       "    </tr>\n",
       "    <tr>\n",
       "      <th>209</th>\n",
       "      <td>0</td>\n",
       "      <td>22.0</td>\n",
       "      <td>40100.0</td>\n",
       "      <td>1</td>\n",
       "      <td>0</td>\n",
       "    </tr>\n",
       "    <tr>\n",
       "      <th>2590</th>\n",
       "      <td>0</td>\n",
       "      <td>38.0</td>\n",
       "      <td>40200.0</td>\n",
       "      <td>0</td>\n",
       "      <td>0</td>\n",
       "    </tr>\n",
       "    <tr>\n",
       "      <th>1549</th>\n",
       "      <td>0</td>\n",
       "      <td>38.0</td>\n",
       "      <td>40200.0</td>\n",
       "      <td>0</td>\n",
       "      <td>0</td>\n",
       "    </tr>\n",
       "    <tr>\n",
       "      <th>24</th>\n",
       "      <td>0</td>\n",
       "      <td>21.0</td>\n",
       "      <td>40400.0</td>\n",
       "      <td>3</td>\n",
       "      <td>0</td>\n",
       "    </tr>\n",
       "    <tr>\n",
       "      <th>1318</th>\n",
       "      <td>0</td>\n",
       "      <td>29.0</td>\n",
       "      <td>40400.0</td>\n",
       "      <td>2</td>\n",
       "      <td>0</td>\n",
       "    </tr>\n",
       "    <tr>\n",
       "      <th>3730</th>\n",
       "      <td>0</td>\n",
       "      <td>29.0</td>\n",
       "      <td>40400.0</td>\n",
       "      <td>2</td>\n",
       "      <td>0</td>\n",
       "    </tr>\n",
       "    <tr>\n",
       "      <th>2198</th>\n",
       "      <td>0</td>\n",
       "      <td>21.0</td>\n",
       "      <td>40400.0</td>\n",
       "      <td>3</td>\n",
       "      <td>0</td>\n",
       "    </tr>\n",
       "    <tr>\n",
       "      <th>169</th>\n",
       "      <td>1</td>\n",
       "      <td>38.0</td>\n",
       "      <td>40700.0</td>\n",
       "      <td>1</td>\n",
       "      <td>0</td>\n",
       "    </tr>\n",
       "    <tr>\n",
       "      <th>4174</th>\n",
       "      <td>1</td>\n",
       "      <td>38.0</td>\n",
       "      <td>40700.0</td>\n",
       "      <td>1</td>\n",
       "      <td>0</td>\n",
       "    </tr>\n",
       "    <tr>\n",
       "      <th>4755</th>\n",
       "      <td>0</td>\n",
       "      <td>31.0</td>\n",
       "      <td>40700.0</td>\n",
       "      <td>0</td>\n",
       "      <td>0</td>\n",
       "    </tr>\n",
       "    <tr>\n",
       "      <th>2616</th>\n",
       "      <td>0</td>\n",
       "      <td>31.0</td>\n",
       "      <td>40700.0</td>\n",
       "      <td>0</td>\n",
       "      <td>0</td>\n",
       "    </tr>\n",
       "    <tr>\n",
       "      <th>678</th>\n",
       "      <td>1</td>\n",
       "      <td>33.0</td>\n",
       "      <td>40900.0</td>\n",
       "      <td>1</td>\n",
       "      <td>0</td>\n",
       "    </tr>\n",
       "    <tr>\n",
       "      <th>1807</th>\n",
       "      <td>1</td>\n",
       "      <td>33.0</td>\n",
       "      <td>40900.0</td>\n",
       "      <td>1</td>\n",
       "      <td>0</td>\n",
       "    </tr>\n",
       "    <tr>\n",
       "      <th>2844</th>\n",
       "      <td>1</td>\n",
       "      <td>28.0</td>\n",
       "      <td>41100.0</td>\n",
       "      <td>0</td>\n",
       "      <td>0</td>\n",
       "    </tr>\n",
       "    <tr>\n",
       "      <th>503</th>\n",
       "      <td>1</td>\n",
       "      <td>28.0</td>\n",
       "      <td>41100.0</td>\n",
       "      <td>0</td>\n",
       "      <td>0</td>\n",
       "    </tr>\n",
       "    <tr>\n",
       "      <th>3513</th>\n",
       "      <td>1</td>\n",
       "      <td>36.0</td>\n",
       "      <td>41300.0</td>\n",
       "      <td>0</td>\n",
       "      <td>0</td>\n",
       "    </tr>\n",
       "    <tr>\n",
       "      <th>406</th>\n",
       "      <td>1</td>\n",
       "      <td>36.0</td>\n",
       "      <td>41300.0</td>\n",
       "      <td>0</td>\n",
       "      <td>0</td>\n",
       "    </tr>\n",
       "    <tr>\n",
       "      <th>4125</th>\n",
       "      <td>0</td>\n",
       "      <td>20.0</td>\n",
       "      <td>41500.0</td>\n",
       "      <td>2</td>\n",
       "      <td>0</td>\n",
       "    </tr>\n",
       "    <tr>\n",
       "      <th>747</th>\n",
       "      <td>0</td>\n",
       "      <td>33.0</td>\n",
       "      <td>41500.0</td>\n",
       "      <td>1</td>\n",
       "      <td>0</td>\n",
       "    </tr>\n",
       "    <tr>\n",
       "      <th>3918</th>\n",
       "      <td>0</td>\n",
       "      <td>20.0</td>\n",
       "      <td>41500.0</td>\n",
       "      <td>2</td>\n",
       "      <td>0</td>\n",
       "    </tr>\n",
       "    <tr>\n",
       "      <th>1928</th>\n",
       "      <td>0</td>\n",
       "      <td>33.0</td>\n",
       "      <td>41500.0</td>\n",
       "      <td>1</td>\n",
       "      <td>0</td>\n",
       "    </tr>\n",
       "    <tr>\n",
       "      <th>1990</th>\n",
       "      <td>1</td>\n",
       "      <td>19.0</td>\n",
       "      <td>41600.0</td>\n",
       "      <td>1</td>\n",
       "      <td>0</td>\n",
       "    </tr>\n",
       "    <tr>\n",
       "      <th>2675</th>\n",
       "      <td>0</td>\n",
       "      <td>23.0</td>\n",
       "      <td>41600.0</td>\n",
       "      <td>0</td>\n",
       "      <td>0</td>\n",
       "    </tr>\n",
       "    <tr>\n",
       "      <th>4048</th>\n",
       "      <td>0</td>\n",
       "      <td>23.0</td>\n",
       "      <td>41600.0</td>\n",
       "      <td>0</td>\n",
       "      <td>0</td>\n",
       "    </tr>\n",
       "    <tr>\n",
       "      <th>3419</th>\n",
       "      <td>1</td>\n",
       "      <td>19.0</td>\n",
       "      <td>41600.0</td>\n",
       "      <td>1</td>\n",
       "      <td>0</td>\n",
       "    </tr>\n",
       "    <tr>\n",
       "      <th>3894</th>\n",
       "      <td>0</td>\n",
       "      <td>21.0</td>\n",
       "      <td>41700.0</td>\n",
       "      <td>2</td>\n",
       "      <td>0</td>\n",
       "    </tr>\n",
       "    <tr>\n",
       "      <th>3</th>\n",
       "      <td>0</td>\n",
       "      <td>21.0</td>\n",
       "      <td>41700.0</td>\n",
       "      <td>2</td>\n",
       "      <td>0</td>\n",
       "    </tr>\n",
       "    <tr>\n",
       "      <th>1671</th>\n",
       "      <td>1</td>\n",
       "      <td>23.0</td>\n",
       "      <td>41900.0</td>\n",
       "      <td>2</td>\n",
       "      <td>0</td>\n",
       "    </tr>\n",
       "    <tr>\n",
       "      <th>1276</th>\n",
       "      <td>1</td>\n",
       "      <td>23.0</td>\n",
       "      <td>41900.0</td>\n",
       "      <td>2</td>\n",
       "      <td>0</td>\n",
       "    </tr>\n",
       "    <tr>\n",
       "      <th>3038</th>\n",
       "      <td>1</td>\n",
       "      <td>32.0</td>\n",
       "      <td>41900.0</td>\n",
       "      <td>2</td>\n",
       "      <td>0</td>\n",
       "    </tr>\n",
       "    <tr>\n",
       "      <th>2586</th>\n",
       "      <td>1</td>\n",
       "      <td>32.0</td>\n",
       "      <td>41900.0</td>\n",
       "      <td>2</td>\n",
       "      <td>0</td>\n",
       "    </tr>\n",
       "    <tr>\n",
       "      <th>1744</th>\n",
       "      <td>1</td>\n",
       "      <td>40.0</td>\n",
       "      <td>41900.0</td>\n",
       "      <td>2</td>\n",
       "      <td>0</td>\n",
       "    </tr>\n",
       "    <tr>\n",
       "      <th>4463</th>\n",
       "      <td>1</td>\n",
       "      <td>40.0</td>\n",
       "      <td>41900.0</td>\n",
       "      <td>2</td>\n",
       "      <td>0</td>\n",
       "    </tr>\n",
       "    <tr>\n",
       "      <th>1755</th>\n",
       "      <td>0</td>\n",
       "      <td>31.0</td>\n",
       "      <td>42100.0</td>\n",
       "      <td>0</td>\n",
       "      <td>0</td>\n",
       "    </tr>\n",
       "    <tr>\n",
       "      <th>2589</th>\n",
       "      <td>0</td>\n",
       "      <td>31.0</td>\n",
       "      <td>42100.0</td>\n",
       "      <td>0</td>\n",
       "      <td>0</td>\n",
       "    </tr>\n",
       "    <tr>\n",
       "      <th>2244</th>\n",
       "      <td>1</td>\n",
       "      <td>26.0</td>\n",
       "      <td>42200.0</td>\n",
       "      <td>1</td>\n",
       "      <td>0</td>\n",
       "    </tr>\n",
       "    <tr>\n",
       "      <th>1337</th>\n",
       "      <td>0</td>\n",
       "      <td>22.0</td>\n",
       "      <td>42200.0</td>\n",
       "      <td>2</td>\n",
       "      <td>0</td>\n",
       "    </tr>\n",
       "    <tr>\n",
       "      <th>3881</th>\n",
       "      <td>0</td>\n",
       "      <td>22.0</td>\n",
       "      <td>42200.0</td>\n",
       "      <td>2</td>\n",
       "      <td>0</td>\n",
       "    </tr>\n",
       "    <tr>\n",
       "      <th>3748</th>\n",
       "      <td>1</td>\n",
       "      <td>26.0</td>\n",
       "      <td>42200.0</td>\n",
       "      <td>1</td>\n",
       "      <td>0</td>\n",
       "    </tr>\n",
       "    <tr>\n",
       "      <th>1004</th>\n",
       "      <td>1</td>\n",
       "      <td>29.0</td>\n",
       "      <td>42400.0</td>\n",
       "      <td>0</td>\n",
       "      <td>0</td>\n",
       "    </tr>\n",
       "    <tr>\n",
       "      <th>52</th>\n",
       "      <td>1</td>\n",
       "      <td>29.0</td>\n",
       "      <td>42400.0</td>\n",
       "      <td>0</td>\n",
       "      <td>0</td>\n",
       "    </tr>\n",
       "    <tr>\n",
       "      <th>3724</th>\n",
       "      <td>1</td>\n",
       "      <td>35.0</td>\n",
       "      <td>42500.0</td>\n",
       "      <td>0</td>\n",
       "      <td>0</td>\n",
       "    </tr>\n",
       "    <tr>\n",
       "      <th>2318</th>\n",
       "      <td>0</td>\n",
       "      <td>35.0</td>\n",
       "      <td>42500.0</td>\n",
       "      <td>0</td>\n",
       "      <td>0</td>\n",
       "    </tr>\n",
       "    <tr>\n",
       "      <th>324</th>\n",
       "      <td>1</td>\n",
       "      <td>35.0</td>\n",
       "      <td>42500.0</td>\n",
       "      <td>0</td>\n",
       "      <td>0</td>\n",
       "    </tr>\n",
       "    <tr>\n",
       "      <th>1483</th>\n",
       "      <td>0</td>\n",
       "      <td>37.0</td>\n",
       "      <td>42500.0</td>\n",
       "      <td>1</td>\n",
       "      <td>0</td>\n",
       "    </tr>\n",
       "    <tr>\n",
       "      <th>2969</th>\n",
       "      <td>0</td>\n",
       "      <td>37.0</td>\n",
       "      <td>42500.0</td>\n",
       "      <td>1</td>\n",
       "      <td>0</td>\n",
       "    </tr>\n",
       "    <tr>\n",
       "      <th>1187</th>\n",
       "      <td>0</td>\n",
       "      <td>35.0</td>\n",
       "      <td>42500.0</td>\n",
       "      <td>0</td>\n",
       "      <td>0</td>\n",
       "    </tr>\n",
       "    <tr>\n",
       "      <th>421</th>\n",
       "      <td>1</td>\n",
       "      <td>22.0</td>\n",
       "      <td>42700.0</td>\n",
       "      <td>1</td>\n",
       "      <td>0</td>\n",
       "    </tr>\n",
       "    <tr>\n",
       "      <th>4022</th>\n",
       "      <td>1</td>\n",
       "      <td>22.0</td>\n",
       "      <td>42700.0</td>\n",
       "      <td>1</td>\n",
       "      <td>0</td>\n",
       "    </tr>\n",
       "    <tr>\n",
       "      <th>3711</th>\n",
       "      <td>1</td>\n",
       "      <td>30.0</td>\n",
       "      <td>43000.0</td>\n",
       "      <td>0</td>\n",
       "      <td>0</td>\n",
       "    </tr>\n",
       "    <tr>\n",
       "      <th>412</th>\n",
       "      <td>1</td>\n",
       "      <td>30.0</td>\n",
       "      <td>43000.0</td>\n",
       "      <td>0</td>\n",
       "      <td>0</td>\n",
       "    </tr>\n",
       "    <tr>\n",
       "      <th>2303</th>\n",
       "      <td>0</td>\n",
       "      <td>28.0</td>\n",
       "      <td>43000.0</td>\n",
       "      <td>0</td>\n",
       "      <td>0</td>\n",
       "    </tr>\n",
       "    <tr>\n",
       "      <th>2623</th>\n",
       "      <td>0</td>\n",
       "      <td>28.0</td>\n",
       "      <td>43000.0</td>\n",
       "      <td>0</td>\n",
       "      <td>0</td>\n",
       "    </tr>\n",
       "    <tr>\n",
       "      <th>121</th>\n",
       "      <td>1</td>\n",
       "      <td>19.0</td>\n",
       "      <td>43200.0</td>\n",
       "      <td>1</td>\n",
       "      <td>0</td>\n",
       "    </tr>\n",
       "    <tr>\n",
       "      <th>2512</th>\n",
       "      <td>1</td>\n",
       "      <td>19.0</td>\n",
       "      <td>43200.0</td>\n",
       "      <td>1</td>\n",
       "      <td>0</td>\n",
       "    </tr>\n",
       "    <tr>\n",
       "      <th>2269</th>\n",
       "      <td>1</td>\n",
       "      <td>19.0</td>\n",
       "      <td>43200.0</td>\n",
       "      <td>1</td>\n",
       "      <td>0</td>\n",
       "    </tr>\n",
       "    <tr>\n",
       "      <th>857</th>\n",
       "      <td>1</td>\n",
       "      <td>23.0</td>\n",
       "      <td>43400.0</td>\n",
       "      <td>1</td>\n",
       "      <td>0</td>\n",
       "    </tr>\n",
       "    <tr>\n",
       "      <th>274</th>\n",
       "      <td>0</td>\n",
       "      <td>25.0</td>\n",
       "      <td>43400.0</td>\n",
       "      <td>0</td>\n",
       "      <td>0</td>\n",
       "    </tr>\n",
       "    <tr>\n",
       "      <th>3476</th>\n",
       "      <td>0</td>\n",
       "      <td>25.0</td>\n",
       "      <td>43400.0</td>\n",
       "      <td>0</td>\n",
       "      <td>0</td>\n",
       "    </tr>\n",
       "    <tr>\n",
       "      <th>1080</th>\n",
       "      <td>0</td>\n",
       "      <td>26.0</td>\n",
       "      <td>43400.0</td>\n",
       "      <td>1</td>\n",
       "      <td>0</td>\n",
       "    </tr>\n",
       "    <tr>\n",
       "      <th>4657</th>\n",
       "      <td>1</td>\n",
       "      <td>23.0</td>\n",
       "      <td>43400.0</td>\n",
       "      <td>1</td>\n",
       "      <td>0</td>\n",
       "    </tr>\n",
       "    <tr>\n",
       "      <th>1604</th>\n",
       "      <td>0</td>\n",
       "      <td>26.0</td>\n",
       "      <td>43400.0</td>\n",
       "      <td>1</td>\n",
       "      <td>0</td>\n",
       "    </tr>\n",
       "    <tr>\n",
       "      <th>2309</th>\n",
       "      <td>1</td>\n",
       "      <td>36.0</td>\n",
       "      <td>43500.0</td>\n",
       "      <td>1</td>\n",
       "      <td>0</td>\n",
       "    </tr>\n",
       "    <tr>\n",
       "      <th>4219</th>\n",
       "      <td>1</td>\n",
       "      <td>36.0</td>\n",
       "      <td>43500.0</td>\n",
       "      <td>1</td>\n",
       "      <td>0</td>\n",
       "    </tr>\n",
       "    <tr>\n",
       "      <th>312</th>\n",
       "      <td>1</td>\n",
       "      <td>33.0</td>\n",
       "      <td>43700.0</td>\n",
       "      <td>2</td>\n",
       "      <td>0</td>\n",
       "    </tr>\n",
       "    <tr>\n",
       "      <th>2450</th>\n",
       "      <td>1</td>\n",
       "      <td>33.0</td>\n",
       "      <td>43700.0</td>\n",
       "      <td>2</td>\n",
       "      <td>0</td>\n",
       "    </tr>\n",
       "    <tr>\n",
       "      <th>63</th>\n",
       "      <td>0</td>\n",
       "      <td>32.0</td>\n",
       "      <td>43800.0</td>\n",
       "      <td>1</td>\n",
       "      <td>0</td>\n",
       "    </tr>\n",
       "    <tr>\n",
       "      <th>1724</th>\n",
       "      <td>0</td>\n",
       "      <td>32.0</td>\n",
       "      <td>43800.0</td>\n",
       "      <td>1</td>\n",
       "      <td>0</td>\n",
       "    </tr>\n",
       "    <tr>\n",
       "      <th>1936</th>\n",
       "      <td>1</td>\n",
       "      <td>26.0</td>\n",
       "      <td>43900.0</td>\n",
       "      <td>0</td>\n",
       "      <td>0</td>\n",
       "    </tr>\n",
       "    <tr>\n",
       "      <th>2139</th>\n",
       "      <td>1</td>\n",
       "      <td>26.0</td>\n",
       "      <td>43900.0</td>\n",
       "      <td>0</td>\n",
       "      <td>0</td>\n",
       "    </tr>\n",
       "    <tr>\n",
       "      <th>1588</th>\n",
       "      <td>0</td>\n",
       "      <td>35.0</td>\n",
       "      <td>44000.0</td>\n",
       "      <td>1</td>\n",
       "      <td>0</td>\n",
       "    </tr>\n",
       "    <tr>\n",
       "      <th>378</th>\n",
       "      <td>0</td>\n",
       "      <td>35.0</td>\n",
       "      <td>44000.0</td>\n",
       "      <td>1</td>\n",
       "      <td>0</td>\n",
       "    </tr>\n",
       "    <tr>\n",
       "      <th>3809</th>\n",
       "      <td>1</td>\n",
       "      <td>28.0</td>\n",
       "      <td>45300.0</td>\n",
       "      <td>0</td>\n",
       "      <td>0</td>\n",
       "    </tr>\n",
       "    <tr>\n",
       "      <th>935</th>\n",
       "      <td>1</td>\n",
       "      <td>28.0</td>\n",
       "      <td>45300.0</td>\n",
       "      <td>0</td>\n",
       "      <td>0</td>\n",
       "    </tr>\n",
       "    <tr>\n",
       "      <th>3780</th>\n",
       "      <td>1</td>\n",
       "      <td>26.0</td>\n",
       "      <td>45600.0</td>\n",
       "      <td>3</td>\n",
       "      <td>0</td>\n",
       "    </tr>\n",
       "    <tr>\n",
       "      <th>217</th>\n",
       "      <td>1</td>\n",
       "      <td>29.0</td>\n",
       "      <td>45600.0</td>\n",
       "      <td>1</td>\n",
       "      <td>0</td>\n",
       "    </tr>\n",
       "    <tr>\n",
       "      <th>2756</th>\n",
       "      <td>1</td>\n",
       "      <td>26.0</td>\n",
       "      <td>45600.0</td>\n",
       "      <td>3</td>\n",
       "      <td>0</td>\n",
       "    </tr>\n",
       "    <tr>\n",
       "      <th>4698</th>\n",
       "      <td>1</td>\n",
       "      <td>29.0</td>\n",
       "      <td>45600.0</td>\n",
       "      <td>1</td>\n",
       "      <td>0</td>\n",
       "    </tr>\n",
       "    <tr>\n",
       "      <th>3241</th>\n",
       "      <td>1</td>\n",
       "      <td>26.0</td>\n",
       "      <td>45700.0</td>\n",
       "      <td>1</td>\n",
       "      <td>0</td>\n",
       "    </tr>\n",
       "    <tr>\n",
       "      <th>2668</th>\n",
       "      <td>1</td>\n",
       "      <td>26.0</td>\n",
       "      <td>45700.0</td>\n",
       "      <td>1</td>\n",
       "      <td>0</td>\n",
       "    </tr>\n",
       "    <tr>\n",
       "      <th>4081</th>\n",
       "      <td>1</td>\n",
       "      <td>21.0</td>\n",
       "      <td>45800.0</td>\n",
       "      <td>0</td>\n",
       "      <td>0</td>\n",
       "    </tr>\n",
       "    <tr>\n",
       "      <th>4945</th>\n",
       "      <td>1</td>\n",
       "      <td>21.0</td>\n",
       "      <td>45800.0</td>\n",
       "      <td>0</td>\n",
       "      <td>0</td>\n",
       "    </tr>\n",
       "    <tr>\n",
       "      <th>668</th>\n",
       "      <td>0</td>\n",
       "      <td>25.0</td>\n",
       "      <td>45900.0</td>\n",
       "      <td>1</td>\n",
       "      <td>0</td>\n",
       "    </tr>\n",
       "    <tr>\n",
       "      <th>1317</th>\n",
       "      <td>0</td>\n",
       "      <td>25.0</td>\n",
       "      <td>45900.0</td>\n",
       "      <td>1</td>\n",
       "      <td>0</td>\n",
       "    </tr>\n",
       "    <tr>\n",
       "      <th>3269</th>\n",
       "      <td>0</td>\n",
       "      <td>25.0</td>\n",
       "      <td>45900.0</td>\n",
       "      <td>1</td>\n",
       "      <td>0</td>\n",
       "    </tr>\n",
       "    <tr>\n",
       "      <th>3267</th>\n",
       "      <td>1</td>\n",
       "      <td>34.0</td>\n",
       "      <td>46000.0</td>\n",
       "      <td>0</td>\n",
       "      <td>0</td>\n",
       "    </tr>\n",
       "    <tr>\n",
       "      <th>1380</th>\n",
       "      <td>1</td>\n",
       "      <td>34.0</td>\n",
       "      <td>46000.0</td>\n",
       "      <td>0</td>\n",
       "      <td>0</td>\n",
       "    </tr>\n",
       "    <tr>\n",
       "      <th>3455</th>\n",
       "      <td>1</td>\n",
       "      <td>25.0</td>\n",
       "      <td>46100.0</td>\n",
       "      <td>1</td>\n",
       "      <td>0</td>\n",
       "    </tr>\n",
       "    <tr>\n",
       "      <th>2791</th>\n",
       "      <td>1</td>\n",
       "      <td>25.0</td>\n",
       "      <td>46100.0</td>\n",
       "      <td>1</td>\n",
       "      <td>0</td>\n",
       "    </tr>\n",
       "    <tr>\n",
       "      <th>1016</th>\n",
       "      <td>1</td>\n",
       "      <td>27.0</td>\n",
       "      <td>46600.0</td>\n",
       "      <td>0</td>\n",
       "      <td>0</td>\n",
       "    </tr>\n",
       "    <tr>\n",
       "      <th>4614</th>\n",
       "      <td>1</td>\n",
       "      <td>27.0</td>\n",
       "      <td>46600.0</td>\n",
       "      <td>0</td>\n",
       "      <td>0</td>\n",
       "    </tr>\n",
       "    <tr>\n",
       "      <th>2409</th>\n",
       "      <td>1</td>\n",
       "      <td>20.0</td>\n",
       "      <td>46700.0</td>\n",
       "      <td>0</td>\n",
       "      <td>0</td>\n",
       "    </tr>\n",
       "    <tr>\n",
       "      <th>2195</th>\n",
       "      <td>1</td>\n",
       "      <td>20.0</td>\n",
       "      <td>46700.0</td>\n",
       "      <td>0</td>\n",
       "      <td>0</td>\n",
       "    </tr>\n",
       "    <tr>\n",
       "      <th>2534</th>\n",
       "      <td>0</td>\n",
       "      <td>26.0</td>\n",
       "      <td>46700.0</td>\n",
       "      <td>0</td>\n",
       "      <td>0</td>\n",
       "    </tr>\n",
       "    <tr>\n",
       "      <th>204</th>\n",
       "      <td>0</td>\n",
       "      <td>26.0</td>\n",
       "      <td>46700.0</td>\n",
       "      <td>0</td>\n",
       "      <td>0</td>\n",
       "    </tr>\n",
       "    <tr>\n",
       "      <th>103</th>\n",
       "      <td>0</td>\n",
       "      <td>27.0</td>\n",
       "      <td>46800.0</td>\n",
       "      <td>2</td>\n",
       "      <td>0</td>\n",
       "    </tr>\n",
       "    <tr>\n",
       "      <th>3256</th>\n",
       "      <td>1</td>\n",
       "      <td>26.0</td>\n",
       "      <td>46800.0</td>\n",
       "      <td>2</td>\n",
       "      <td>0</td>\n",
       "    </tr>\n",
       "    <tr>\n",
       "      <th>2700</th>\n",
       "      <td>1</td>\n",
       "      <td>26.0</td>\n",
       "      <td>46800.0</td>\n",
       "      <td>2</td>\n",
       "      <td>0</td>\n",
       "    </tr>\n",
       "    <tr>\n",
       "      <th>1089</th>\n",
       "      <td>0</td>\n",
       "      <td>27.0</td>\n",
       "      <td>46800.0</td>\n",
       "      <td>2</td>\n",
       "      <td>0</td>\n",
       "    </tr>\n",
       "    <tr>\n",
       "      <th>2103</th>\n",
       "      <td>1</td>\n",
       "      <td>41.0</td>\n",
       "      <td>47100.0</td>\n",
       "      <td>1</td>\n",
       "      <td>0</td>\n",
       "    </tr>\n",
       "    <tr>\n",
       "      <th>3365</th>\n",
       "      <td>1</td>\n",
       "      <td>41.0</td>\n",
       "      <td>47100.0</td>\n",
       "      <td>1</td>\n",
       "      <td>0</td>\n",
       "    </tr>\n",
       "    <tr>\n",
       "      <th>2055</th>\n",
       "      <td>1</td>\n",
       "      <td>32.0</td>\n",
       "      <td>47100.0</td>\n",
       "      <td>1</td>\n",
       "      <td>0</td>\n",
       "    </tr>\n",
       "    <tr>\n",
       "      <th>1502</th>\n",
       "      <td>1</td>\n",
       "      <td>32.0</td>\n",
       "      <td>47100.0</td>\n",
       "      <td>1</td>\n",
       "      <td>0</td>\n",
       "    </tr>\n",
       "    <tr>\n",
       "      <th>2163</th>\n",
       "      <td>1</td>\n",
       "      <td>29.0</td>\n",
       "      <td>47500.0</td>\n",
       "      <td>0</td>\n",
       "      <td>0</td>\n",
       "    </tr>\n",
       "    <tr>\n",
       "      <th>3221</th>\n",
       "      <td>1</td>\n",
       "      <td>32.0</td>\n",
       "      <td>47500.0</td>\n",
       "      <td>1</td>\n",
       "      <td>0</td>\n",
       "    </tr>\n",
       "    <tr>\n",
       "      <th>3002</th>\n",
       "      <td>1</td>\n",
       "      <td>32.0</td>\n",
       "      <td>47500.0</td>\n",
       "      <td>1</td>\n",
       "      <td>0</td>\n",
       "    </tr>\n",
       "    <tr>\n",
       "      <th>4481</th>\n",
       "      <td>1</td>\n",
       "      <td>29.0</td>\n",
       "      <td>47500.0</td>\n",
       "      <td>0</td>\n",
       "      <td>0</td>\n",
       "    </tr>\n",
       "    <tr>\n",
       "      <th>552</th>\n",
       "      <td>0</td>\n",
       "      <td>25.0</td>\n",
       "      <td>47800.0</td>\n",
       "      <td>1</td>\n",
       "      <td>0</td>\n",
       "    </tr>\n",
       "    <tr>\n",
       "      <th>4212</th>\n",
       "      <td>0</td>\n",
       "      <td>25.0</td>\n",
       "      <td>47800.0</td>\n",
       "      <td>1</td>\n",
       "      <td>0</td>\n",
       "    </tr>\n",
       "    <tr>\n",
       "      <th>281</th>\n",
       "      <td>1</td>\n",
       "      <td>39.0</td>\n",
       "      <td>48100.0</td>\n",
       "      <td>1</td>\n",
       "      <td>0</td>\n",
       "    </tr>\n",
       "    <tr>\n",
       "      <th>4043</th>\n",
       "      <td>1</td>\n",
       "      <td>29.0</td>\n",
       "      <td>48100.0</td>\n",
       "      <td>2</td>\n",
       "      <td>0</td>\n",
       "    </tr>\n",
       "    <tr>\n",
       "      <th>1763</th>\n",
       "      <td>1</td>\n",
       "      <td>29.0</td>\n",
       "      <td>48100.0</td>\n",
       "      <td>2</td>\n",
       "      <td>0</td>\n",
       "    </tr>\n",
       "    <tr>\n",
       "      <th>69</th>\n",
       "      <td>1</td>\n",
       "      <td>39.0</td>\n",
       "      <td>48100.0</td>\n",
       "      <td>1</td>\n",
       "      <td>0</td>\n",
       "    </tr>\n",
       "    <tr>\n",
       "      <th>2826</th>\n",
       "      <td>0</td>\n",
       "      <td>32.0</td>\n",
       "      <td>48700.0</td>\n",
       "      <td>2</td>\n",
       "      <td>0</td>\n",
       "    </tr>\n",
       "    <tr>\n",
       "      <th>4052</th>\n",
       "      <td>0</td>\n",
       "      <td>32.0</td>\n",
       "      <td>48700.0</td>\n",
       "      <td>2</td>\n",
       "      <td>0</td>\n",
       "    </tr>\n",
       "    <tr>\n",
       "      <th>176</th>\n",
       "      <td>1</td>\n",
       "      <td>41.0</td>\n",
       "      <td>48900.0</td>\n",
       "      <td>0</td>\n",
       "      <td>0</td>\n",
       "    </tr>\n",
       "    <tr>\n",
       "      <th>3923</th>\n",
       "      <td>1</td>\n",
       "      <td>41.0</td>\n",
       "      <td>48900.0</td>\n",
       "      <td>0</td>\n",
       "      <td>0</td>\n",
       "    </tr>\n",
       "    <tr>\n",
       "      <th>2998</th>\n",
       "      <td>0</td>\n",
       "      <td>31.0</td>\n",
       "      <td>49400.0</td>\n",
       "      <td>1</td>\n",
       "      <td>0</td>\n",
       "    </tr>\n",
       "    <tr>\n",
       "      <th>3087</th>\n",
       "      <td>0</td>\n",
       "      <td>31.0</td>\n",
       "      <td>49400.0</td>\n",
       "      <td>1</td>\n",
       "      <td>0</td>\n",
       "    </tr>\n",
       "    <tr>\n",
       "      <th>248</th>\n",
       "      <td>0</td>\n",
       "      <td>31.0</td>\n",
       "      <td>49400.0</td>\n",
       "      <td>1</td>\n",
       "      <td>0</td>\n",
       "    </tr>\n",
       "    <tr>\n",
       "      <th>219</th>\n",
       "      <td>0</td>\n",
       "      <td>29.0</td>\n",
       "      <td>49900.0</td>\n",
       "      <td>2</td>\n",
       "      <td>0</td>\n",
       "    </tr>\n",
       "    <tr>\n",
       "      <th>1667</th>\n",
       "      <td>1</td>\n",
       "      <td>30.0</td>\n",
       "      <td>49900.0</td>\n",
       "      <td>1</td>\n",
       "      <td>0</td>\n",
       "    </tr>\n",
       "    <tr>\n",
       "      <th>1221</th>\n",
       "      <td>0</td>\n",
       "      <td>31.0</td>\n",
       "      <td>49900.0</td>\n",
       "      <td>1</td>\n",
       "      <td>0</td>\n",
       "    </tr>\n",
       "    <tr>\n",
       "      <th>3296</th>\n",
       "      <td>0</td>\n",
       "      <td>27.0</td>\n",
       "      <td>49900.0</td>\n",
       "      <td>1</td>\n",
       "      <td>0</td>\n",
       "    </tr>\n",
       "    <tr>\n",
       "      <th>3666</th>\n",
       "      <td>0</td>\n",
       "      <td>31.0</td>\n",
       "      <td>49900.0</td>\n",
       "      <td>1</td>\n",
       "      <td>0</td>\n",
       "    </tr>\n",
       "    <tr>\n",
       "      <th>3519</th>\n",
       "      <td>0</td>\n",
       "      <td>29.0</td>\n",
       "      <td>49900.0</td>\n",
       "      <td>2</td>\n",
       "      <td>0</td>\n",
       "    </tr>\n",
       "    <tr>\n",
       "      <th>1893</th>\n",
       "      <td>1</td>\n",
       "      <td>30.0</td>\n",
       "      <td>49900.0</td>\n",
       "      <td>1</td>\n",
       "      <td>0</td>\n",
       "    </tr>\n",
       "    <tr>\n",
       "      <th>59</th>\n",
       "      <td>1</td>\n",
       "      <td>30.0</td>\n",
       "      <td>49900.0</td>\n",
       "      <td>1</td>\n",
       "      <td>0</td>\n",
       "    </tr>\n",
       "    <tr>\n",
       "      <th>1955</th>\n",
       "      <td>0</td>\n",
       "      <td>27.0</td>\n",
       "      <td>49900.0</td>\n",
       "      <td>1</td>\n",
       "      <td>0</td>\n",
       "    </tr>\n",
       "    <tr>\n",
       "      <th>3822</th>\n",
       "      <td>1</td>\n",
       "      <td>38.0</td>\n",
       "      <td>50200.0</td>\n",
       "      <td>2</td>\n",
       "      <td>0</td>\n",
       "    </tr>\n",
       "    <tr>\n",
       "      <th>1130</th>\n",
       "      <td>1</td>\n",
       "      <td>38.0</td>\n",
       "      <td>50200.0</td>\n",
       "      <td>2</td>\n",
       "      <td>0</td>\n",
       "    </tr>\n",
       "    <tr>\n",
       "      <th>4266</th>\n",
       "      <td>0</td>\n",
       "      <td>32.0</td>\n",
       "      <td>50400.0</td>\n",
       "      <td>1</td>\n",
       "      <td>0</td>\n",
       "    </tr>\n",
       "    <tr>\n",
       "      <th>3798</th>\n",
       "      <td>1</td>\n",
       "      <td>23.0</td>\n",
       "      <td>50400.0</td>\n",
       "      <td>0</td>\n",
       "      <td>0</td>\n",
       "    </tr>\n",
       "    <tr>\n",
       "      <th>2617</th>\n",
       "      <td>0</td>\n",
       "      <td>32.0</td>\n",
       "      <td>50400.0</td>\n",
       "      <td>1</td>\n",
       "      <td>0</td>\n",
       "    </tr>\n",
       "    <tr>\n",
       "      <th>3699</th>\n",
       "      <td>1</td>\n",
       "      <td>23.0</td>\n",
       "      <td>50400.0</td>\n",
       "      <td>0</td>\n",
       "      <td>0</td>\n",
       "    </tr>\n",
       "    <tr>\n",
       "      <th>3746</th>\n",
       "      <td>0</td>\n",
       "      <td>37.0</td>\n",
       "      <td>51400.0</td>\n",
       "      <td>0</td>\n",
       "      <td>0</td>\n",
       "    </tr>\n",
       "    <tr>\n",
       "      <th>677</th>\n",
       "      <td>0</td>\n",
       "      <td>37.0</td>\n",
       "      <td>51400.0</td>\n",
       "      <td>0</td>\n",
       "      <td>0</td>\n",
       "    </tr>\n",
       "    <tr>\n",
       "      <th>851</th>\n",
       "      <td>0</td>\n",
       "      <td>19.0</td>\n",
       "      <td>51700.0</td>\n",
       "      <td>0</td>\n",
       "      <td>0</td>\n",
       "    </tr>\n",
       "    <tr>\n",
       "      <th>2853</th>\n",
       "      <td>0</td>\n",
       "      <td>19.0</td>\n",
       "      <td>51700.0</td>\n",
       "      <td>0</td>\n",
       "      <td>0</td>\n",
       "    </tr>\n",
       "    <tr>\n",
       "      <th>2694</th>\n",
       "      <td>1</td>\n",
       "      <td>19.0</td>\n",
       "      <td>52600.0</td>\n",
       "      <td>0</td>\n",
       "      <td>0</td>\n",
       "    </tr>\n",
       "    <tr>\n",
       "      <th>712</th>\n",
       "      <td>1</td>\n",
       "      <td>19.0</td>\n",
       "      <td>52600.0</td>\n",
       "      <td>0</td>\n",
       "      <td>0</td>\n",
       "    </tr>\n",
       "    <tr>\n",
       "      <th>4270</th>\n",
       "      <td>0</td>\n",
       "      <td>29.0</td>\n",
       "      <td>52700.0</td>\n",
       "      <td>1</td>\n",
       "      <td>0</td>\n",
       "    </tr>\n",
       "    <tr>\n",
       "      <th>3140</th>\n",
       "      <td>0</td>\n",
       "      <td>29.0</td>\n",
       "      <td>52700.0</td>\n",
       "      <td>1</td>\n",
       "      <td>0</td>\n",
       "    </tr>\n",
       "    <tr>\n",
       "      <th>3290</th>\n",
       "      <td>0</td>\n",
       "      <td>24.0</td>\n",
       "      <td>52700.0</td>\n",
       "      <td>1</td>\n",
       "      <td>0</td>\n",
       "    </tr>\n",
       "    <tr>\n",
       "      <th>3588</th>\n",
       "      <td>0</td>\n",
       "      <td>24.0</td>\n",
       "      <td>52700.0</td>\n",
       "      <td>1</td>\n",
       "      <td>0</td>\n",
       "    </tr>\n",
       "    <tr>\n",
       "      <th>3303</th>\n",
       "      <td>0</td>\n",
       "      <td>25.0</td>\n",
       "      <td>52800.0</td>\n",
       "      <td>2</td>\n",
       "      <td>0</td>\n",
       "    </tr>\n",
       "    <tr>\n",
       "      <th>144</th>\n",
       "      <td>0</td>\n",
       "      <td>25.0</td>\n",
       "      <td>52800.0</td>\n",
       "      <td>2</td>\n",
       "      <td>0</td>\n",
       "    </tr>\n",
       "    <tr>\n",
       "      <th>778</th>\n",
       "      <td>0</td>\n",
       "      <td>23.0</td>\n",
       "      <td>53600.0</td>\n",
       "      <td>1</td>\n",
       "      <td>0</td>\n",
       "    </tr>\n",
       "    <tr>\n",
       "      <th>3150</th>\n",
       "      <td>0</td>\n",
       "      <td>23.0</td>\n",
       "      <td>53600.0</td>\n",
       "      <td>1</td>\n",
       "      <td>0</td>\n",
       "    </tr>\n",
       "    <tr>\n",
       "      <th>107</th>\n",
       "      <td>1</td>\n",
       "      <td>24.0</td>\n",
       "      <td>53900.0</td>\n",
       "      <td>2</td>\n",
       "      <td>0</td>\n",
       "    </tr>\n",
       "    <tr>\n",
       "      <th>1281</th>\n",
       "      <td>1</td>\n",
       "      <td>24.0</td>\n",
       "      <td>53900.0</td>\n",
       "      <td>2</td>\n",
       "      <td>0</td>\n",
       "    </tr>\n",
       "    <tr>\n",
       "      <th>1542</th>\n",
       "      <td>0</td>\n",
       "      <td>40.0</td>\n",
       "      <td>54000.0</td>\n",
       "      <td>2</td>\n",
       "      <td>0</td>\n",
       "    </tr>\n",
       "    <tr>\n",
       "      <th>2465</th>\n",
       "      <td>0</td>\n",
       "      <td>40.0</td>\n",
       "      <td>54000.0</td>\n",
       "      <td>2</td>\n",
       "      <td>0</td>\n",
       "    </tr>\n",
       "    <tr>\n",
       "      <th>1042</th>\n",
       "      <td>0</td>\n",
       "      <td>33.0</td>\n",
       "      <td>59300.0</td>\n",
       "      <td>2</td>\n",
       "      <td>0</td>\n",
       "    </tr>\n",
       "    <tr>\n",
       "      <th>2231</th>\n",
       "      <td>0</td>\n",
       "      <td>33.0</td>\n",
       "      <td>59300.0</td>\n",
       "      <td>2</td>\n",
       "      <td>0</td>\n",
       "    </tr>\n",
       "    <tr>\n",
       "      <th>1418</th>\n",
       "      <td>1</td>\n",
       "      <td>28.0</td>\n",
       "      <td>59900.0</td>\n",
       "      <td>0</td>\n",
       "      <td>0</td>\n",
       "    </tr>\n",
       "    <tr>\n",
       "      <th>1742</th>\n",
       "      <td>1</td>\n",
       "      <td>28.0</td>\n",
       "      <td>59900.0</td>\n",
       "      <td>0</td>\n",
       "      <td>0</td>\n",
       "    </tr>\n",
       "  </tbody>\n",
       "</table>\n",
       "</div>"
      ],
      "text/plain": [
       "      Пол  Возраст  Зарплата  Члены семьи  Страховые выплаты\n",
       "2955    1     32.0   21600.0            0                  0\n",
       "2988    1     32.0   21600.0            0                  0\n",
       "361     0     50.0   24700.0            1                  2\n",
       "2869    0     50.0   24700.0            1                  2\n",
       "333     0     32.0   25600.0            1                  0\n",
       "4230    0     32.0   25600.0            1                  0\n",
       "1378    0     36.0   26400.0            0                  0\n",
       "2723    0     36.0   26400.0            0                  0\n",
       "1002    1     34.0   26900.0            0                  0\n",
       "1140    1     34.0   26900.0            0                  0\n",
       "1678    1     31.0   27900.0            1                  0\n",
       "2565    1     31.0   27900.0            1                  0\n",
       "471     1     30.0   28200.0            0                  0\n",
       "3315    1     30.0   28200.0            0                  0\n",
       "720     0     25.0   28300.0            0                  0\n",
       "2501    0     25.0   28300.0            0                  0\n",
       "3119    1     31.0   28400.0            1                  0\n",
       "4189    1     31.0   28400.0            1                  0\n",
       "3333    0     36.0   29700.0            2                  0\n",
       "2519    0     36.0   29700.0            2                  0\n",
       "2274    1     41.0   30200.0            0                  0\n",
       "1093    1     41.0   30200.0            0                  0\n",
       "947     1     37.0   31200.0            2                  0\n",
       "1251    1     37.0   31200.0            2                  0\n",
       "1255    0     30.0   31400.0            2                  0\n",
       "1487    0     38.0   31400.0            1                  0\n",
       "4764    0     30.0   31400.0            2                  0\n",
       "4202    0     38.0   31400.0            1                  0\n",
       "2175    0     36.0   31500.0            2                  0\n",
       "4239    0     36.0   31500.0            2                  0\n",
       "1166    0     35.0   31600.0            0                  0\n",
       "3161    0     35.0   31600.0            0                  0\n",
       "2176    0     36.0   31700.0            1                  0\n",
       "1666    0     36.0   31700.0            1                  0\n",
       "4726    1     19.0   31700.0            1                  0\n",
       "4053    1     19.0   31700.0            1                  0\n",
       "3396    0     22.0   32400.0            2                  0\n",
       "3968    0     22.0   32400.0            2                  0\n",
       "489     1     22.0   32600.0            1                  0\n",
       "718     1     22.0   32600.0            1                  0\n",
       "1485    1     41.0   32700.0            0                  0\n",
       "4935    1     19.0   32700.0            0                  0\n",
       "1336    1     19.0   32700.0            0                  0\n",
       "80      1     41.0   32700.0            0                  0\n",
       "488     1     24.0   32900.0            1                  0\n",
       "411     1     24.0   32900.0            1                  0\n",
       "1758    1     23.0   33100.0            1                  0\n",
       "1049    1     23.0   33100.0            1                  0\n",
       "869     1     24.0   33100.0            1                  0\n",
       "88      1     24.0   33100.0            1                  0\n",
       "4351    1     25.0   33400.0            1                  0\n",
       "896     1     25.0   33400.0            1                  0\n",
       "4702    0     33.0   33700.0            2                  0\n",
       "3019    0     33.0   33700.0            2                  0\n",
       "2662    0     22.0   33800.0            1                  0\n",
       "119     0     22.0   33800.0            1                  0\n",
       "978     0     31.0   33900.0            0                  0\n",
       "3395    0     31.0   33900.0            0                  0\n",
       "1091    1     41.0   34000.0            1                  0\n",
       "134     1     41.0   34000.0            1                  0\n",
       "2460    0     27.0   34200.0            2                  0\n",
       "2243    0     27.0   34200.0            2                  0\n",
       "2734    0     32.0   34300.0            1                  0\n",
       "3763    0     32.0   34300.0            1                  0\n",
       "4021    1     35.0   34900.0            1                  0\n",
       "4301    1     35.0   34900.0            1                  0\n",
       "4041    1     36.0   35000.0            1                  0\n",
       "3101    1     36.0   35000.0            1                  0\n",
       "2602    1     27.0   35000.0            1                  0\n",
       "1083    1     27.0   35000.0            1                  0\n",
       "773     0     21.0   35300.0            1                  0\n",
       "3176    0     21.0   35300.0            1                  0\n",
       "3988    1     24.0   35300.0            0                  0\n",
       "683     1     24.0   35300.0            0                  0\n",
       "1346    0     26.0   35400.0            1                  0\n",
       "4592    0     26.0   35400.0            1                  0\n",
       "887     1     19.0   35500.0            0                  0\n",
       "664     1     19.0   35500.0            0                  0\n",
       "4129    1     19.0   35600.0            2                  0\n",
       "731     1     19.0   35600.0            2                  0\n",
       "785     0     20.0   35800.0            0                  0\n",
       "688     0     20.0   35800.0            0                  0\n",
       "3999    0     26.0   36000.0            0                  0\n",
       "2158    0     26.0   36000.0            0                  0\n",
       "2553    0     26.0   36100.0            1                  0\n",
       "636     0     26.0   36100.0            1                  0\n",
       "2840    1     22.0   36200.0            1                  0\n",
       "1633    1     22.0   36200.0            1                  0\n",
       "3791    1     21.0   36300.0            0                  0\n",
       "1092    1     21.0   36300.0            0                  0\n",
       "1313    0     20.0   36800.0            0                  0\n",
       "2654    0     20.0   36800.0            0                  0\n",
       "1559    1     32.0   36900.0            0                  0\n",
       "476     1     32.0   36900.0            0                  0\n",
       "2375    0     23.0   37000.0            2                  0\n",
       "3218    0     23.0   37000.0            2                  0\n",
       "1948    0     27.0   37100.0            1                  0\n",
       "4240    0     27.0   37100.0            1                  0\n",
       "4306    0     21.0   37200.0            0                  0\n",
       "2854    0     21.0   37200.0            0                  0\n",
       "843     1     31.0   37200.0            1                  0\n",
       "3141    0     21.0   37200.0            0                  0\n",
       "2486    1     31.0   37200.0            1                  0\n",
       "721     0     37.0   37300.0            1                  0\n",
       "2819    0     37.0   37300.0            1                  0\n",
       "4580    1     27.0   37300.0            0                  0\n",
       "568     1     27.0   37300.0            0                  0\n",
       "4781    1     40.0   37400.0            2                  0\n",
       "68      1     20.0   37400.0            2                  0\n",
       "82      0     31.0   37400.0            2                  0\n",
       "4084    1     40.0   37400.0            2                  0\n",
       "1340    1     20.0   37400.0            2                  0\n",
       "513     0     31.0   37400.0            2                  0\n",
       "223     1     34.0   37500.0            1                  0\n",
       "3257    1     34.0   37500.0            1                  0\n",
       "2526    0     25.0   37600.0            1                  0\n",
       "2458    0     25.0   37600.0            1                  0\n",
       "4793    1     24.0   37800.0            0                  0\n",
       "1728    0     30.0   37800.0            0                  0\n",
       "2307    0     22.0   37800.0            1                  0\n",
       "2975    1     24.0   37800.0            0                  0\n",
       "3136    0     22.0   37800.0            1                  0\n",
       "1087    0     30.0   37800.0            0                  0\n",
       "1751    0     19.0   38600.0            0                  0\n",
       "3268    0     19.0   38600.0            0                  0\n",
       "4902    1     35.0   38700.0            1                  0\n",
       "1815    1     27.0   38700.0            2                  0\n",
       "4012    1     35.0   38700.0            1                  0\n",
       "1116    1     27.0   38700.0            2                  0\n",
       "4259    1     40.0   39300.0            0                  0\n",
       "4425    1     40.0   39300.0            0                  0\n",
       "1598    0     28.0   39800.0            1                  0\n",
       "3648    1     28.0   39800.0            2                  0\n",
       "2334    1     28.0   39800.0            2                  0\n",
       "2881    0     28.0   39800.0            1                  0\n",
       "1189    0     28.0   39800.0            1                  0\n",
       "1566    1     18.0   39800.0            2                  0\n",
       "2429    1     18.0   39800.0            2                  0\n",
       "3533    0     28.0   39900.0            0                  0\n",
       "4664    0     28.0   39900.0            0                  0\n",
       "1537    0     34.0   39900.0            0                  0\n",
       "2470    0     34.0   39900.0            0                  0\n",
       "4965    0     22.0   40100.0            1                  0\n",
       "209     0     22.0   40100.0            1                  0\n",
       "2590    0     38.0   40200.0            0                  0\n",
       "1549    0     38.0   40200.0            0                  0\n",
       "24      0     21.0   40400.0            3                  0\n",
       "1318    0     29.0   40400.0            2                  0\n",
       "3730    0     29.0   40400.0            2                  0\n",
       "2198    0     21.0   40400.0            3                  0\n",
       "169     1     38.0   40700.0            1                  0\n",
       "4174    1     38.0   40700.0            1                  0\n",
       "4755    0     31.0   40700.0            0                  0\n",
       "2616    0     31.0   40700.0            0                  0\n",
       "678     1     33.0   40900.0            1                  0\n",
       "1807    1     33.0   40900.0            1                  0\n",
       "2844    1     28.0   41100.0            0                  0\n",
       "503     1     28.0   41100.0            0                  0\n",
       "3513    1     36.0   41300.0            0                  0\n",
       "406     1     36.0   41300.0            0                  0\n",
       "4125    0     20.0   41500.0            2                  0\n",
       "747     0     33.0   41500.0            1                  0\n",
       "3918    0     20.0   41500.0            2                  0\n",
       "1928    0     33.0   41500.0            1                  0\n",
       "1990    1     19.0   41600.0            1                  0\n",
       "2675    0     23.0   41600.0            0                  0\n",
       "4048    0     23.0   41600.0            0                  0\n",
       "3419    1     19.0   41600.0            1                  0\n",
       "3894    0     21.0   41700.0            2                  0\n",
       "3       0     21.0   41700.0            2                  0\n",
       "1671    1     23.0   41900.0            2                  0\n",
       "1276    1     23.0   41900.0            2                  0\n",
       "3038    1     32.0   41900.0            2                  0\n",
       "2586    1     32.0   41900.0            2                  0\n",
       "1744    1     40.0   41900.0            2                  0\n",
       "4463    1     40.0   41900.0            2                  0\n",
       "1755    0     31.0   42100.0            0                  0\n",
       "2589    0     31.0   42100.0            0                  0\n",
       "2244    1     26.0   42200.0            1                  0\n",
       "1337    0     22.0   42200.0            2                  0\n",
       "3881    0     22.0   42200.0            2                  0\n",
       "3748    1     26.0   42200.0            1                  0\n",
       "1004    1     29.0   42400.0            0                  0\n",
       "52      1     29.0   42400.0            0                  0\n",
       "3724    1     35.0   42500.0            0                  0\n",
       "2318    0     35.0   42500.0            0                  0\n",
       "324     1     35.0   42500.0            0                  0\n",
       "1483    0     37.0   42500.0            1                  0\n",
       "2969    0     37.0   42500.0            1                  0\n",
       "1187    0     35.0   42500.0            0                  0\n",
       "421     1     22.0   42700.0            1                  0\n",
       "4022    1     22.0   42700.0            1                  0\n",
       "3711    1     30.0   43000.0            0                  0\n",
       "412     1     30.0   43000.0            0                  0\n",
       "2303    0     28.0   43000.0            0                  0\n",
       "2623    0     28.0   43000.0            0                  0\n",
       "121     1     19.0   43200.0            1                  0\n",
       "2512    1     19.0   43200.0            1                  0\n",
       "2269    1     19.0   43200.0            1                  0\n",
       "857     1     23.0   43400.0            1                  0\n",
       "274     0     25.0   43400.0            0                  0\n",
       "3476    0     25.0   43400.0            0                  0\n",
       "1080    0     26.0   43400.0            1                  0\n",
       "4657    1     23.0   43400.0            1                  0\n",
       "1604    0     26.0   43400.0            1                  0\n",
       "2309    1     36.0   43500.0            1                  0\n",
       "4219    1     36.0   43500.0            1                  0\n",
       "312     1     33.0   43700.0            2                  0\n",
       "2450    1     33.0   43700.0            2                  0\n",
       "63      0     32.0   43800.0            1                  0\n",
       "1724    0     32.0   43800.0            1                  0\n",
       "1936    1     26.0   43900.0            0                  0\n",
       "2139    1     26.0   43900.0            0                  0\n",
       "1588    0     35.0   44000.0            1                  0\n",
       "378     0     35.0   44000.0            1                  0\n",
       "3809    1     28.0   45300.0            0                  0\n",
       "935     1     28.0   45300.0            0                  0\n",
       "3780    1     26.0   45600.0            3                  0\n",
       "217     1     29.0   45600.0            1                  0\n",
       "2756    1     26.0   45600.0            3                  0\n",
       "4698    1     29.0   45600.0            1                  0\n",
       "3241    1     26.0   45700.0            1                  0\n",
       "2668    1     26.0   45700.0            1                  0\n",
       "4081    1     21.0   45800.0            0                  0\n",
       "4945    1     21.0   45800.0            0                  0\n",
       "668     0     25.0   45900.0            1                  0\n",
       "1317    0     25.0   45900.0            1                  0\n",
       "3269    0     25.0   45900.0            1                  0\n",
       "3267    1     34.0   46000.0            0                  0\n",
       "1380    1     34.0   46000.0            0                  0\n",
       "3455    1     25.0   46100.0            1                  0\n",
       "2791    1     25.0   46100.0            1                  0\n",
       "1016    1     27.0   46600.0            0                  0\n",
       "4614    1     27.0   46600.0            0                  0\n",
       "2409    1     20.0   46700.0            0                  0\n",
       "2195    1     20.0   46700.0            0                  0\n",
       "2534    0     26.0   46700.0            0                  0\n",
       "204     0     26.0   46700.0            0                  0\n",
       "103     0     27.0   46800.0            2                  0\n",
       "3256    1     26.0   46800.0            2                  0\n",
       "2700    1     26.0   46800.0            2                  0\n",
       "1089    0     27.0   46800.0            2                  0\n",
       "2103    1     41.0   47100.0            1                  0\n",
       "3365    1     41.0   47100.0            1                  0\n",
       "2055    1     32.0   47100.0            1                  0\n",
       "1502    1     32.0   47100.0            1                  0\n",
       "2163    1     29.0   47500.0            0                  0\n",
       "3221    1     32.0   47500.0            1                  0\n",
       "3002    1     32.0   47500.0            1                  0\n",
       "4481    1     29.0   47500.0            0                  0\n",
       "552     0     25.0   47800.0            1                  0\n",
       "4212    0     25.0   47800.0            1                  0\n",
       "281     1     39.0   48100.0            1                  0\n",
       "4043    1     29.0   48100.0            2                  0\n",
       "1763    1     29.0   48100.0            2                  0\n",
       "69      1     39.0   48100.0            1                  0\n",
       "2826    0     32.0   48700.0            2                  0\n",
       "4052    0     32.0   48700.0            2                  0\n",
       "176     1     41.0   48900.0            0                  0\n",
       "3923    1     41.0   48900.0            0                  0\n",
       "2998    0     31.0   49400.0            1                  0\n",
       "3087    0     31.0   49400.0            1                  0\n",
       "248     0     31.0   49400.0            1                  0\n",
       "219     0     29.0   49900.0            2                  0\n",
       "1667    1     30.0   49900.0            1                  0\n",
       "1221    0     31.0   49900.0            1                  0\n",
       "3296    0     27.0   49900.0            1                  0\n",
       "3666    0     31.0   49900.0            1                  0\n",
       "3519    0     29.0   49900.0            2                  0\n",
       "1893    1     30.0   49900.0            1                  0\n",
       "59      1     30.0   49900.0            1                  0\n",
       "1955    0     27.0   49900.0            1                  0\n",
       "3822    1     38.0   50200.0            2                  0\n",
       "1130    1     38.0   50200.0            2                  0\n",
       "4266    0     32.0   50400.0            1                  0\n",
       "3798    1     23.0   50400.0            0                  0\n",
       "2617    0     32.0   50400.0            1                  0\n",
       "3699    1     23.0   50400.0            0                  0\n",
       "3746    0     37.0   51400.0            0                  0\n",
       "677     0     37.0   51400.0            0                  0\n",
       "851     0     19.0   51700.0            0                  0\n",
       "2853    0     19.0   51700.0            0                  0\n",
       "2694    1     19.0   52600.0            0                  0\n",
       "712     1     19.0   52600.0            0                  0\n",
       "4270    0     29.0   52700.0            1                  0\n",
       "3140    0     29.0   52700.0            1                  0\n",
       "3290    0     24.0   52700.0            1                  0\n",
       "3588    0     24.0   52700.0            1                  0\n",
       "3303    0     25.0   52800.0            2                  0\n",
       "144     0     25.0   52800.0            2                  0\n",
       "778     0     23.0   53600.0            1                  0\n",
       "3150    0     23.0   53600.0            1                  0\n",
       "107     1     24.0   53900.0            2                  0\n",
       "1281    1     24.0   53900.0            2                  0\n",
       "1542    0     40.0   54000.0            2                  0\n",
       "2465    0     40.0   54000.0            2                  0\n",
       "1042    0     33.0   59300.0            2                  0\n",
       "2231    0     33.0   59300.0            2                  0\n",
       "1418    1     28.0   59900.0            0                  0\n",
       "1742    1     28.0   59900.0            0                  0"
      ]
     },
     "metadata": {},
     "output_type": "display_data"
    }
   ],
   "source": [
    "# выводим продублированные значения\n",
    "data_dupl_lst = data.duplicated(keep=False).to_frame().rename(columns={0:'dupl'})\n",
    "data_dupl = data_dupl_lst[data_dupl_lst['dupl'] == True]\n",
    "display(data[data.index.isin(data_dupl.index)].sort_values(by='Зарплата', ascending = True))"
   ]
  },
  {
   "cell_type": "code",
   "execution_count": 6,
   "metadata": {},
   "outputs": [
    {
     "data": {
      "text/html": [
       "<div>\n",
       "<style scoped>\n",
       "    .dataframe tbody tr th:only-of-type {\n",
       "        vertical-align: middle;\n",
       "    }\n",
       "\n",
       "    .dataframe tbody tr th {\n",
       "        vertical-align: top;\n",
       "    }\n",
       "\n",
       "    .dataframe thead th {\n",
       "        text-align: right;\n",
       "    }\n",
       "</style>\n",
       "<table border=\"1\" class=\"dataframe\">\n",
       "  <thead>\n",
       "    <tr style=\"text-align: right;\">\n",
       "      <th></th>\n",
       "      <th>Пол</th>\n",
       "      <th>Возраст</th>\n",
       "      <th>Зарплата</th>\n",
       "      <th>Члены семьи</th>\n",
       "      <th>Страховые выплаты</th>\n",
       "    </tr>\n",
       "  </thead>\n",
       "  <tbody>\n",
       "    <tr>\n",
       "      <th>count</th>\n",
       "      <td>5000.000000</td>\n",
       "      <td>5000.000000</td>\n",
       "      <td>5000.000000</td>\n",
       "      <td>5000.000000</td>\n",
       "      <td>5000.000000</td>\n",
       "    </tr>\n",
       "    <tr>\n",
       "      <th>mean</th>\n",
       "      <td>0.499000</td>\n",
       "      <td>30.952800</td>\n",
       "      <td>39916.360000</td>\n",
       "      <td>1.194200</td>\n",
       "      <td>0.148000</td>\n",
       "    </tr>\n",
       "    <tr>\n",
       "      <th>std</th>\n",
       "      <td>0.500049</td>\n",
       "      <td>8.440807</td>\n",
       "      <td>9900.083569</td>\n",
       "      <td>1.091387</td>\n",
       "      <td>0.463183</td>\n",
       "    </tr>\n",
       "    <tr>\n",
       "      <th>min</th>\n",
       "      <td>0.000000</td>\n",
       "      <td>18.000000</td>\n",
       "      <td>5300.000000</td>\n",
       "      <td>0.000000</td>\n",
       "      <td>0.000000</td>\n",
       "    </tr>\n",
       "    <tr>\n",
       "      <th>25%</th>\n",
       "      <td>0.000000</td>\n",
       "      <td>24.000000</td>\n",
       "      <td>33300.000000</td>\n",
       "      <td>0.000000</td>\n",
       "      <td>0.000000</td>\n",
       "    </tr>\n",
       "    <tr>\n",
       "      <th>50%</th>\n",
       "      <td>0.000000</td>\n",
       "      <td>30.000000</td>\n",
       "      <td>40200.000000</td>\n",
       "      <td>1.000000</td>\n",
       "      <td>0.000000</td>\n",
       "    </tr>\n",
       "    <tr>\n",
       "      <th>75%</th>\n",
       "      <td>1.000000</td>\n",
       "      <td>37.000000</td>\n",
       "      <td>46600.000000</td>\n",
       "      <td>2.000000</td>\n",
       "      <td>0.000000</td>\n",
       "    </tr>\n",
       "    <tr>\n",
       "      <th>max</th>\n",
       "      <td>1.000000</td>\n",
       "      <td>65.000000</td>\n",
       "      <td>79000.000000</td>\n",
       "      <td>6.000000</td>\n",
       "      <td>5.000000</td>\n",
       "    </tr>\n",
       "  </tbody>\n",
       "</table>\n",
       "</div>"
      ],
      "text/plain": [
       "               Пол      Возраст      Зарплата  Члены семьи  Страховые выплаты\n",
       "count  5000.000000  5000.000000   5000.000000  5000.000000        5000.000000\n",
       "mean      0.499000    30.952800  39916.360000     1.194200           0.148000\n",
       "std       0.500049     8.440807   9900.083569     1.091387           0.463183\n",
       "min       0.000000    18.000000   5300.000000     0.000000           0.000000\n",
       "25%       0.000000    24.000000  33300.000000     0.000000           0.000000\n",
       "50%       0.000000    30.000000  40200.000000     1.000000           0.000000\n",
       "75%       1.000000    37.000000  46600.000000     2.000000           0.000000\n",
       "max       1.000000    65.000000  79000.000000     6.000000           5.000000"
      ]
     },
     "metadata": {},
     "output_type": "display_data"
    }
   ],
   "source": [
    "# проверяем распределение данных\n",
    "display(data.describe())"
   ]
  },
  {
   "cell_type": "code",
   "execution_count": 7,
   "metadata": {},
   "outputs": [
    {
     "data": {
      "image/png": "[encoded data removed]",
      "text/plain": [
       "<Figure size 900x900 with 30 Axes>"
      ]
     },
     "metadata": {
      "needs_background": "light"
     },
     "output_type": "display_data"
    }
   ],
   "source": [
    "# проверяем попарное распределение данных\n",
    "g = sns.pairplot(data=data)\n",
    "g.fig.suptitle('Попарное распределение данных'\\\n",
    "               , y=1.08, fontsize=18);"
   ]
  },
  {
   "cell_type": "code",
   "execution_count": 8,
   "metadata": {},
   "outputs": [
    {
     "data": {
      "text/html": [
       "<div>\n",
       "<style scoped>\n",
       "    .dataframe tbody tr th:only-of-type {\n",
       "        vertical-align: middle;\n",
       "    }\n",
       "\n",
       "    .dataframe tbody tr th {\n",
       "        vertical-align: top;\n",
       "    }\n",
       "\n",
       "    .dataframe thead th {\n",
       "        text-align: right;\n",
       "    }\n",
       "</style>\n",
       "<table border=\"1\" class=\"dataframe\">\n",
       "  <thead>\n",
       "    <tr style=\"text-align: right;\">\n",
       "      <th></th>\n",
       "      <th>Пол</th>\n",
       "      <th>Возраст</th>\n",
       "      <th>Зарплата</th>\n",
       "      <th>Члены семьи</th>\n",
       "      <th>Страховые выплаты</th>\n",
       "    </tr>\n",
       "  </thead>\n",
       "  <tbody>\n",
       "    <tr>\n",
       "      <th>228</th>\n",
       "      <td>1</td>\n",
       "      <td>65.0</td>\n",
       "      <td>39700.0</td>\n",
       "      <td>1</td>\n",
       "      <td>5</td>\n",
       "    </tr>\n",
       "  </tbody>\n",
       "</table>\n",
       "</div>"
      ],
      "text/plain": [
       "     Пол  Возраст  Зарплата  Члены семьи  Страховые выплаты\n",
       "228    1     65.0   39700.0            1                  5"
      ]
     },
     "metadata": {},
     "output_type": "display_data"
    }
   ],
   "source": [
    "# проверяем записи с 5 выплатами\n",
    "display(data[data['Страховые выплаты'] == 5])"
   ]
  },
  {
   "cell_type": "code",
   "execution_count": 9,
   "metadata": {},
   "outputs": [
    {
     "data": {
      "text/plain": [
       "(4999, 5)"
      ]
     },
     "execution_count": 9,
     "metadata": {},
     "output_type": "execute_result"
    }
   ],
   "source": [
    "# удаляем единичное значение с 5 страховыми выплатами как аномальное\n",
    "data = data.drop(index=[228])\n",
    "data.shape"
   ]
  },
  {
   "cell_type": "markdown",
   "metadata": {},
   "source": [
    "### Выводы\n",
    "* датасет содержит 5 000 строк и 5 колонок\n",
    "* данные записаны в ожидаемых форматах\n",
    "* датасет не имеет пропущенных значений\n",
    "* датасет содержит 153 строки с абсолютно продублированными записями, но анализ не выявил признаков ошибки - индексы разнесены (скорее всего записи вносили не одна за другой), кол-во обсолютных повторов не больше 2-х, существует высокая вероятность, что в списки попали люди в одном возрасте, с одинаковыми доходами и схожим составом родственников; принято решение не удалять дубликаты\n",
    "* минимальные, средние, максимальные значения находятся в ожидаемых пределах\n",
    "* аномальным признано единичное значение 5 страховых выплат; объект удален\n",
    "* данные имеют разный масштаб, использование модели линейной регрессии потребует стандартизацию\n",
    "* попарное распределение данных показало явную зависимость целевого признака \"кол-во выплат\" от признака \"возраст\""
   ]
  },
  {
   "cell_type": "markdown",
   "metadata": {},
   "source": [
    "## Умножение матриц"
   ]
  },
  {
   "cell_type": "markdown",
   "metadata": {},
   "source": [
    "### Умножение признаков на обратимую матрицу"
   ]
  },
  {
   "cell_type": "code",
   "execution_count": 10,
   "metadata": {},
   "outputs": [],
   "source": [
    "# строим исходную матрицу признаков\n",
    "X = data.drop('Страховые выплаты', axis = 1)\n",
    "\n",
    "# выделяем целевой признак\n",
    "y = data['Страховые выплаты']"
   ]
  },
  {
   "cell_type": "code",
   "execution_count": 11,
   "metadata": {},
   "outputs": [
    {
     "name": "stdout",
     "output_type": "stream",
     "text": [
      "(4999, 4)\n",
      "(4999,)\n"
     ]
    }
   ],
   "source": [
    "# проверяем размерность\n",
    "print(X.shape)\n",
    "print(y.shape)"
   ]
  },
  {
   "cell_type": "markdown",
   "metadata": {},
   "source": [
    "**Признаки умножают на обратимую матрицу. Изменится ли качество линейной регрессии?**"
   ]
  },
  {
   "cell_type": "markdown",
   "metadata": {},
   "source": [
    "#### Теоритическое обоснование"
   ]
  },
  {
   "cell_type": "markdown",
   "metadata": {},
   "source": [
    "Обозначения:\n",
    "\n",
    "- $X$ — матрица признаков (нулевой столбец состоит из единиц)\n",
    "\n",
    "- $y$ — вектор целевого признака\n",
    "\n",
    "- $P$ — обратимая матрица, на которую умножаются признаки\n",
    "\n",
    "- $Z$ - матрица, полученная домножением $X$ на $P$\n",
    "\n",
    "- $w$ — вектор весов линейной регрессии (нулевой элемент равен сдвигу)\n",
    "\n",
    "- $w*$ - вектор весов линейной регрессии матрицы, полученной домножением исходной на обратимую матрицу(нулевой элемент равен сдвигу)\n",
    "\n",
    "- $a$ - предсказания по исходной матрице признаков\n",
    "\n",
    "- $a*$ - предсказания по матрице полученной домноженной на обратимую матрицу"
   ]
  },
  {
   "cell_type": "markdown",
   "metadata": {},
   "source": [
    "**Исходная матрица признаков $X$**\n",
    "\n",
    "Предсказания:\n",
    "\n",
    "$$\n",
    "a = Xw\n",
    "$$\n",
    "\n",
    "Формула обучения:\n",
    "\n",
    "$$\n",
    "w = (X^T X)^{-1} X^T y\n",
    "$$"
   ]
  },
  {
   "cell_type": "markdown",
   "metadata": {},
   "source": [
    "**Новая матрица признаков $Z$**\n",
    "\n",
    "$$\n",
    "Z = XP\\\\(1.1)\n",
    "$$\n",
    "\n",
    "Предсказания:\n",
    "\n",
    "$$\n",
    "a* = Zw*\\\\(1.2)\n",
    "$$\n",
    "\n",
    "Формула обучения:\n",
    "\n",
    "$$\n",
    "w* = (Z^T Z)^{-1} Z^T y\\\\(1.3)\n",
    "$$\n",
    "\n",
    "Подставим уравнение $1.2$ в правую часть уравнения $1.3$:\n",
    "\n",
    "$$\n",
    "a* = Z (Z^T Z)^{-1} Z^T y\\\\(1.4)\n",
    "$$\n",
    "\n",
    "Заменим все $Z$ правой частью уравнения $1.1$\n",
    "\n",
    "$$\n",
    "a* = XP ((XP)^T (XP))^{-1} (XP)^T y\\\\(1.5)\n",
    "$$\n",
    "\n",
    "Раскроем $(XP)^T$:\n",
    "\n",
    "$$\n",
    "a* = XP (P^T X^T XP)^{-1} P^T X^T y\\\\(1.6)\n",
    "$$\n",
    "\n",
    "В следующем шаге используем свойство обратной матрицы: \"Матрица, обратная к произведению матриц, равна произведению обратных матриц, взятых в обратном порядке.\"\n",
    "\n",
    "$$\n",
    "(ABC)^{-1} = C^{-1} B^{-1} A^{-1}\n",
    "$$\n",
    "\n",
    "Принимаем, что: $A = P^T, B = X^T X, C = P$.\n",
    "\n",
    "Тогда:\n",
    "\n",
    "$$\n",
    "a* = XP (P^T X^T XP)^{-1} P^T X^T y\\\\\n",
    "= XP P^{-1} (X^T X)^{-1} (P^T)^{-1} P^T X^T y\\\\\n",
    "(1.7)\n",
    "$$\n",
    "\n",
    "Умножение приводит к:\n",
    "\n",
    "$$\n",
    "P P^{-1} = E\\\\\n",
    "(P^T)^{-1}  P^T = E\\\\\n",
    "(X^T X)^{-1} X^T y = w\n",
    "$$\n",
    "\n",
    "Проверим, что осталось от уравнения $1.7$\n",
    "\n",
    "$$\n",
    "a* = X E E w\\\\\n",
    "= X w\\\\\n",
    "= a\\\\\n",
    "(1.8)\n",
    "$$\n",
    "\n",
    "Получили формулу для $a*$ которая полностью совпадает с формулой для $a$."
   ]
  },
  {
   "cell_type": "markdown",
   "metadata": {},
   "source": [
    "#### Вывод\n",
    "* Независимо от того, какую метрику будем использовать, значения метрик и качество линейной регрессии при умножении признаков на обратимую матрицу не изменятся"
   ]
  },
  {
   "cell_type": "markdown",
   "metadata": {},
   "source": [
    "#### Проверка"
   ]
  },
  {
   "cell_type": "markdown",
   "metadata": {},
   "source": [
    "* Создададим различные варианты обратимых матриц для дальнейшего домножения на X\n",
    "* Проверим метрику R2\n",
    "\n",
    "Обратимые матрицы:\n",
    "\n",
    "- $E$ - единичная матрица\n",
    "- $R$ - рандомная(обратимая) матрица\n",
    "- $Q$ - матрица полученная $X.T@X$"
   ]
  },
  {
   "cell_type": "code",
   "execution_count": 12,
   "metadata": {},
   "outputs": [
    {
     "data": {
      "text/plain": [
       "(4999, 4)"
      ]
     },
     "execution_count": 12,
     "metadata": {},
     "output_type": "execute_result"
    }
   ],
   "source": [
    "# создеам единичную матрицу,\n",
    "# производим умножение\n",
    "E = np.eye(4)\n",
    "X_E = X.dot(E)\n",
    "X_E.shape"
   ]
  },
  {
   "cell_type": "code",
   "execution_count": 13,
   "metadata": {},
   "outputs": [
    {
     "data": {
      "text/plain": [
       "(4999, 4)"
      ]
     },
     "execution_count": 13,
     "metadata": {},
     "output_type": "execute_result"
    }
   ],
   "source": [
    "# создаем рандомную обратимую матрицу,\n",
    "# производим умножение\n",
    "np.random.seed(0)\n",
    "R = []\n",
    "for i in range(4):\n",
    "    vector = np.random.rand(4)\n",
    "    R.append(vector)\n",
    "    \n",
    "R = np.array(R)\n",
    "\n",
    "X_R = X.dot(R)\n",
    "X_R.shape"
   ]
  },
  {
   "cell_type": "code",
   "execution_count": 14,
   "metadata": {},
   "outputs": [
    {
     "data": {
      "text/plain": [
       "(4999, 4)"
      ]
     },
     "execution_count": 14,
     "metadata": {},
     "output_type": "execute_result"
    }
   ],
   "source": [
    "# преобразуем исходную матрицу,\n",
    "# производим умножение\n",
    "Q = X.T @ X\n",
    "X_Q = X.dot(Q)\n",
    "X_Q.shape"
   ]
  },
  {
   "cell_type": "code",
   "execution_count": 15,
   "metadata": {},
   "outputs": [],
   "source": [
    "# создаем функцию проверки матрицы на обратимость \n",
    "def error_inv(X, name):\n",
    "    try: \n",
    "        np.linalg.inv(X)\n",
    "        print(\"Матрица\", name, \"обратима, детерминант = \", np.linalg.det(X))\n",
    "    except np.linalg.LinAlgError:\n",
    "        try:\n",
    "            print(\"Матрица\", name, \"необратима, детерминант = \", np.linalg.det(X))\n",
    "        except:\n",
    "            print(\"Матрица\", name\\\n",
    "                  , \"не удовлетваоряет требованиям к обратимой матрице, возможно не квадратная!\")"
   ]
  },
  {
   "cell_type": "code",
   "execution_count": 16,
   "metadata": {},
   "outputs": [
    {
     "name": "stdout",
     "output_type": "stream",
     "text": [
      "Матрица X не удовлетваоряет требованиям к обратимой матрице, возможно не квадратная!\n",
      "Матрица E обратима, детерминант =  1.0\n",
      "Матрица R обратима, детерминант =  0.1393885146242566\n",
      "Матрица Q обратима, детерминант =  4.361830156699929e+25\n"
     ]
    }
   ],
   "source": [
    "# проверяем созданные матрицы на обратимость\n",
    "error_inv(X, name = 'X')\n",
    "error_inv(E, name = 'E')\n",
    "error_inv(R, name = 'R')\n",
    "error_inv(Q, name = 'Q')"
   ]
  },
  {
   "cell_type": "code",
   "execution_count": 17,
   "metadata": {},
   "outputs": [],
   "source": [
    "# создаем фукнцию обучения модели на разных матрицах признаков,\n",
    "# и расчета метрики R2\n",
    "def R2(X, y, name):\n",
    "    model = LinearRegression()\n",
    "    model.fit(X,y)\n",
    "    predict = model.predict(X)\n",
    "    return print(\"Метрика R2 для матрицы\", name, \"равна\", r2_score(y, predict))"
   ]
  },
  {
   "cell_type": "code",
   "execution_count": 18,
   "metadata": {},
   "outputs": [
    {
     "name": "stdout",
     "output_type": "stream",
     "text": [
      "Метрика R2 для матрицы X равна 0.4246420350488802\n",
      "Метрика R2 для матрицы X_E равна 0.4246420350488802\n",
      "Метрика R2 для матрицы X_R равна 0.4246420350488802\n",
      "Метрика R2 для матрицы X_Q равна 0.4246420350488802\n"
     ]
    }
   ],
   "source": [
    "# обучаем модель,\n",
    "# рассчитываем метрику R2\n",
    "R2(X,y,name = 'X')\n",
    "R2(X,y,name = 'X_E')\n",
    "R2(X,y,name = 'X_R')\n",
    "R2(X,y,name = 'X_Q')"
   ]
  },
  {
   "cell_type": "markdown",
   "metadata": {},
   "source": [
    "### Вывод\n",
    "* разбор формул и практическая проверка подтвердили, что умножение признаков на обратимую матрицу не влияет на качество линейной регрессии"
   ]
  },
  {
   "cell_type": "markdown",
   "metadata": {},
   "source": [
    "## Алгоритм преобразования"
   ]
  },
  {
   "cell_type": "markdown",
   "metadata": {},
   "source": [
    "### Алгоритм\n",
    "\n",
    "Для защиты персональных данных предлагается умножить исходную матрицу признаков на обратимую матрицу $R$, сгенерированную случайным образом (матрица **X_R**)."
   ]
  },
  {
   "cell_type": "markdown",
   "metadata": {},
   "source": [
    "### Обоснование\n",
    "\n",
    "Использование доказанного выше свойства умножения признаков на обратимую матрицу позволит:\n",
    "* исказить или \"закодировать\" персональные данные, хранящиеся в исходной матрице признаков\n",
    "* получить идентичный исходной матрице результат работы модели линейной регрессии с сохранением качества"
   ]
  },
  {
   "cell_type": "markdown",
   "metadata": {},
   "source": [
    "## Проверка алгоритма"
   ]
  },
  {
   "cell_type": "code",
   "execution_count": 19,
   "metadata": {},
   "outputs": [
    {
     "data": {
      "text/html": [
       "<div>\n",
       "<style scoped>\n",
       "    .dataframe tbody tr th:only-of-type {\n",
       "        vertical-align: middle;\n",
       "    }\n",
       "\n",
       "    .dataframe tbody tr th {\n",
       "        vertical-align: top;\n",
       "    }\n",
       "\n",
       "    .dataframe thead th {\n",
       "        text-align: right;\n",
       "    }\n",
       "</style>\n",
       "<table border=\"1\" class=\"dataframe\">\n",
       "  <thead>\n",
       "    <tr style=\"text-align: right;\">\n",
       "      <th></th>\n",
       "      <th>Пол</th>\n",
       "      <th>Возраст</th>\n",
       "      <th>Зарплата</th>\n",
       "      <th>Члены семьи</th>\n",
       "    </tr>\n",
       "  </thead>\n",
       "  <tbody>\n",
       "    <tr>\n",
       "      <th>0</th>\n",
       "      <td>1</td>\n",
       "      <td>41.0</td>\n",
       "      <td>49600.0</td>\n",
       "      <td>1</td>\n",
       "    </tr>\n",
       "    <tr>\n",
       "      <th>1</th>\n",
       "      <td>0</td>\n",
       "      <td>46.0</td>\n",
       "      <td>38000.0</td>\n",
       "      <td>1</td>\n",
       "    </tr>\n",
       "    <tr>\n",
       "      <th>2</th>\n",
       "      <td>0</td>\n",
       "      <td>29.0</td>\n",
       "      <td>21000.0</td>\n",
       "      <td>0</td>\n",
       "    </tr>\n",
       "    <tr>\n",
       "      <th>3</th>\n",
       "      <td>0</td>\n",
       "      <td>21.0</td>\n",
       "      <td>41700.0</td>\n",
       "      <td>2</td>\n",
       "    </tr>\n",
       "    <tr>\n",
       "      <th>4</th>\n",
       "      <td>1</td>\n",
       "      <td>28.0</td>\n",
       "      <td>26100.0</td>\n",
       "      <td>0</td>\n",
       "    </tr>\n",
       "  </tbody>\n",
       "</table>\n",
       "</div>"
      ],
      "text/plain": [
       "   Пол  Возраст  Зарплата  Члены семьи\n",
       "0    1     41.0   49600.0            1\n",
       "1    0     46.0   38000.0            1\n",
       "2    0     29.0   21000.0            0\n",
       "3    0     21.0   41700.0            2\n",
       "4    1     28.0   26100.0            0"
      ]
     },
     "metadata": {},
     "output_type": "display_data"
    },
    {
     "data": {
      "text/html": [
       "<div>\n",
       "<style scoped>\n",
       "    .dataframe tbody tr th:only-of-type {\n",
       "        vertical-align: middle;\n",
       "    }\n",
       "\n",
       "    .dataframe tbody tr th {\n",
       "        vertical-align: top;\n",
       "    }\n",
       "\n",
       "    .dataframe thead th {\n",
       "        text-align: right;\n",
       "    }\n",
       "</style>\n",
       "<table border=\"1\" class=\"dataframe\">\n",
       "  <thead>\n",
       "    <tr style=\"text-align: right;\">\n",
       "      <th></th>\n",
       "      <th>0</th>\n",
       "      <th>1</th>\n",
       "      <th>2</th>\n",
       "      <th>3</th>\n",
       "    </tr>\n",
       "  </thead>\n",
       "  <tbody>\n",
       "    <tr>\n",
       "      <th>0</th>\n",
       "      <td>47816.159626</td>\n",
       "      <td>19046.821778</td>\n",
       "      <td>39288.176764</td>\n",
       "      <td>26270.382725</td>\n",
       "    </tr>\n",
       "    <tr>\n",
       "      <th>1</th>\n",
       "      <td>36639.241064</td>\n",
       "      <td>14601.414441</td>\n",
       "      <td>30105.751495</td>\n",
       "      <td>20139.115638</td>\n",
       "    </tr>\n",
       "    <tr>\n",
       "      <th>2</th>\n",
       "      <td>20249.203960</td>\n",
       "      <td>8071.002825</td>\n",
       "      <td>16638.915829</td>\n",
       "      <td>11132.654732</td>\n",
       "    </tr>\n",
       "    <tr>\n",
       "      <th>3</th>\n",
       "      <td>40194.769953</td>\n",
       "      <td>16004.926305</td>\n",
       "      <td>33024.265492</td>\n",
       "      <td>22073.819645</td>\n",
       "    </tr>\n",
       "    <tr>\n",
       "      <th>4</th>\n",
       "      <td>25164.009197</td>\n",
       "      <td>10026.623866</td>\n",
       "      <td>20676.878699</td>\n",
       "      <td>13829.671933</td>\n",
       "    </tr>\n",
       "  </tbody>\n",
       "</table>\n",
       "</div>"
      ],
      "text/plain": [
       "              0             1             2             3\n",
       "0  47816.159626  19046.821778  39288.176764  26270.382725\n",
       "1  36639.241064  14601.414441  30105.751495  20139.115638\n",
       "2  20249.203960   8071.002825  16638.915829  11132.654732\n",
       "3  40194.769953  16004.926305  33024.265492  22073.819645\n",
       "4  25164.009197  10026.623866  20676.878699  13829.671933"
      ]
     },
     "metadata": {},
     "output_type": "display_data"
    }
   ],
   "source": [
    "# выводим данные до преобразования и после\n",
    "display(X.head())\n",
    "display(X_R.head())"
   ]
  },
  {
   "cell_type": "markdown",
   "metadata": {},
   "source": [
    "* **данные потеряли свои оригинальные значения, теперь в них хранится непонятное число**"
   ]
  },
  {
   "cell_type": "markdown",
   "metadata": {},
   "source": [
    "### Линейная регрессия на исходной матрице признаков X"
   ]
  },
  {
   "cell_type": "code",
   "execution_count": 20,
   "metadata": {},
   "outputs": [],
   "source": [
    "# разделяем данные на обучающую и валидационную выборки в пропорции 75х25\n",
    "X_train, X_valid, y_train, y_valid = train_test_split(X, y, test_size=0.25, random_state= 0)"
   ]
  },
  {
   "cell_type": "code",
   "execution_count": 21,
   "metadata": {},
   "outputs": [
    {
     "name": "stdout",
     "output_type": "stream",
     "text": [
      "(3749, 4)\n",
      "(3749,)\n",
      "(1250, 4)\n",
      "(1250,)\n"
     ]
    }
   ],
   "source": [
    "# проверяем количество измерений в выборках\n",
    "print(X_train.shape)\n",
    "print(y_train.shape)\n",
    "print(X_valid.shape)\n",
    "print(y_valid.shape)"
   ]
  },
  {
   "cell_type": "code",
   "execution_count": 22,
   "metadata": {},
   "outputs": [],
   "source": [
    "# стандартизируем данные методом StandartScaler\n",
    "scaler = StandardScaler()\n",
    "scaler.fit(X_train)\n",
    "X_train_st = scaler.transform(X_train)\n",
    "X_valid_st = scaler.transform(X_valid)"
   ]
  },
  {
   "cell_type": "code",
   "execution_count": 23,
   "metadata": {},
   "outputs": [
    {
     "data": {
      "text/plain": [
       "LinearRegression()"
      ]
     },
     "execution_count": 23,
     "metadata": {},
     "output_type": "execute_result"
    }
   ],
   "source": [
    "# задаем алгоритм и обучаем модель\n",
    "model_X = LinearRegression()\n",
    "model_X.fit(X_train_st, y_train)"
   ]
  },
  {
   "cell_type": "code",
   "execution_count": 24,
   "metadata": {},
   "outputs": [],
   "source": [
    "# делаем предсказания обученной моделью\n",
    "predictions_X = model_X.predict(X_valid_st)"
   ]
  },
  {
   "cell_type": "code",
   "execution_count": 25,
   "metadata": {},
   "outputs": [
    {
     "name": "stdout",
     "output_type": "stream",
     "text": [
      "X valid R2: 0.42571751351618625\n"
     ]
    }
   ],
   "source": [
    "# проверяем метрику R2 на валидационной выборке\n",
    "print(\"X valid R2: {}\".format(r2_score(y_valid, predictions_X)))"
   ]
  },
  {
   "cell_type": "markdown",
   "metadata": {},
   "source": [
    "### Линейная регрессия на преобразованной матрице признаков X_R"
   ]
  },
  {
   "cell_type": "code",
   "execution_count": 26,
   "metadata": {},
   "outputs": [],
   "source": [
    "# разделяем данные на обучающую и валидационную выборки в пропорции 75х25\n",
    "X_R_train, X_R_valid, y_train, y_valid = train_test_split(X_R, y, test_size=0.25, random_state= 0)"
   ]
  },
  {
   "cell_type": "code",
   "execution_count": 27,
   "metadata": {},
   "outputs": [
    {
     "name": "stdout",
     "output_type": "stream",
     "text": [
      "(3749, 4)\n",
      "(3749,)\n",
      "(1250, 4)\n",
      "(1250,)\n"
     ]
    }
   ],
   "source": [
    "# проверяем количество измерений в выборках\n",
    "print(X_R_train.shape)\n",
    "print(y_train.shape)\n",
    "print(X_R_valid.shape)\n",
    "print(y_valid.shape)"
   ]
  },
  {
   "cell_type": "code",
   "execution_count": 28,
   "metadata": {},
   "outputs": [],
   "source": [
    "# стандартизируем данные методом StandartScaler\n",
    "scaler = StandardScaler()\n",
    "scaler.fit(X_R_train)\n",
    "X_R_train_st = scaler.transform(X_R_train)\n",
    "X_R_valid_st = scaler.transform(X_R_valid)"
   ]
  },
  {
   "cell_type": "code",
   "execution_count": 29,
   "metadata": {},
   "outputs": [
    {
     "data": {
      "text/plain": [
       "LinearRegression()"
      ]
     },
     "execution_count": 29,
     "metadata": {},
     "output_type": "execute_result"
    }
   ],
   "source": [
    "# задаем алгоритм и обучаем модель\n",
    "model_X_R = LinearRegression()\n",
    "model_X_R.fit(X_R_train_st, y_train)"
   ]
  },
  {
   "cell_type": "code",
   "execution_count": 30,
   "metadata": {},
   "outputs": [],
   "source": [
    "# делаем предсказания обученной моделью\n",
    "predictions_X_R = model_X_R.predict(X_R_valid_st)"
   ]
  },
  {
   "cell_type": "code",
   "execution_count": 31,
   "metadata": {},
   "outputs": [
    {
     "name": "stdout",
     "output_type": "stream",
     "text": [
      "X_R valid R2: 0.4257175135162612\n"
     ]
    }
   ],
   "source": [
    "# проверяем метрику R2 на валидационной выборке\n",
    "print(\"X_R valid R2: {}\".format(r2_score(y_valid, predictions_X_R)))"
   ]
  },
  {
   "cell_type": "markdown",
   "metadata": {},
   "source": [
    "### Выводы\n",
    "\n",
    "алгоритм умножения исходной матрицы признаков на случайную обратимую матрицу позволил:\n",
    "* закодировать персональные данные\n",
    "* решить задачу регрессии на закодированных данных без потери качества (метрика R2)"
   ]
  }
 ],
 "metadata": {
  "ExecuteTimeLog": [
   {
    "duration": 49,
    "start_time": "2022-08-02T09:55:29.185Z"
   },
   {
    "duration": 397,
    "start_time": "2022-08-02T09:56:46.725Z"
   },
   {
    "duration": 87,
    "start_time": "2022-08-02T09:56:47.457Z"
   },
   {
    "duration": 1668,
    "start_time": "2022-08-02T10:03:54.247Z"
   },
   {
    "duration": 40,
    "start_time": "2022-08-02T10:03:55.917Z"
   },
   {
    "duration": 42,
    "start_time": "2022-08-02T10:05:16.143Z"
   },
   {
    "duration": 5,
    "start_time": "2022-08-02T10:08:17.392Z"
   },
   {
    "duration": 5,
    "start_time": "2022-08-02T10:08:39.064Z"
   },
   {
    "duration": 6,
    "start_time": "2022-08-02T10:09:38.880Z"
   },
   {
    "duration": 76,
    "start_time": "2022-08-02T10:10:47.639Z"
   },
   {
    "duration": 125,
    "start_time": "2022-08-02T10:11:16.868Z"
   },
   {
    "duration": 5,
    "start_time": "2022-08-02T10:11:28.752Z"
   },
   {
    "duration": 56,
    "start_time": "2022-08-02T11:00:50.223Z"
   },
   {
    "duration": 6,
    "start_time": "2022-08-02T11:01:39.923Z"
   },
   {
    "duration": 35,
    "start_time": "2022-08-02T11:05:15.964Z"
   },
   {
    "duration": 5,
    "start_time": "2022-08-02T11:07:29.643Z"
   },
   {
    "duration": 113,
    "start_time": "2022-08-02T11:08:59.950Z"
   },
   {
    "duration": 15,
    "start_time": "2022-08-02T11:09:18.431Z"
   },
   {
    "duration": 18,
    "start_time": "2022-08-02T11:09:38.731Z"
   },
   {
    "duration": 32,
    "start_time": "2022-08-02T11:18:43.788Z"
   },
   {
    "duration": 153,
    "start_time": "2022-08-02T11:20:02.128Z"
   },
   {
    "duration": 32,
    "start_time": "2022-08-02T11:20:06.285Z"
   },
   {
    "duration": 17,
    "start_time": "2022-08-02T11:26:02.992Z"
   },
   {
    "duration": 59,
    "start_time": "2022-08-02T11:26:31.590Z"
   },
   {
    "duration": 27,
    "start_time": "2022-08-02T11:31:23.866Z"
   },
   {
    "duration": 49,
    "start_time": "2022-08-02T11:33:23.183Z"
   },
   {
    "duration": 130,
    "start_time": "2022-08-02T11:33:40.109Z"
   },
   {
    "duration": 3332,
    "start_time": "2022-08-02T11:35:53.750Z"
   },
   {
    "duration": 4,
    "start_time": "2022-08-02T12:02:13.166Z"
   },
   {
    "duration": 3,
    "start_time": "2022-08-02T12:08:21.278Z"
   },
   {
    "duration": 14,
    "start_time": "2022-08-02T12:08:28.332Z"
   },
   {
    "duration": 8,
    "start_time": "2022-08-02T12:10:52.988Z"
   },
   {
    "duration": 5,
    "start_time": "2022-08-02T12:13:29.973Z"
   },
   {
    "duration": 1390,
    "start_time": "2022-08-02T12:15:06.164Z"
   },
   {
    "duration": 46,
    "start_time": "2022-08-02T12:15:07.555Z"
   },
   {
    "duration": 5,
    "start_time": "2022-08-02T12:15:07.602Z"
   },
   {
    "duration": 31,
    "start_time": "2022-08-02T12:15:07.608Z"
   },
   {
    "duration": 57,
    "start_time": "2022-08-02T12:15:07.641Z"
   },
   {
    "duration": 25,
    "start_time": "2022-08-02T12:15:07.699Z"
   },
   {
    "duration": 3360,
    "start_time": "2022-08-02T12:15:07.731Z"
   },
   {
    "duration": 8,
    "start_time": "2022-08-02T12:15:11.092Z"
   },
   {
    "duration": 6,
    "start_time": "2022-08-02T12:15:11.102Z"
   },
   {
    "duration": 28,
    "start_time": "2022-08-02T12:15:11.110Z"
   },
   {
    "duration": 8,
    "start_time": "2022-08-02T12:15:11.140Z"
   },
   {
    "duration": 4,
    "start_time": "2022-08-02T12:16:56.651Z"
   },
   {
    "duration": 9,
    "start_time": "2022-08-02T12:18:41.446Z"
   },
   {
    "duration": 6,
    "start_time": "2022-08-02T12:19:46.357Z"
   },
   {
    "duration": 5,
    "start_time": "2022-08-02T12:20:02.367Z"
   },
   {
    "duration": 3,
    "start_time": "2022-08-02T12:21:01.465Z"
   },
   {
    "duration": 4,
    "start_time": "2022-08-02T12:24:29.870Z"
   },
   {
    "duration": 220,
    "start_time": "2022-08-02T12:30:07.526Z"
   },
   {
    "duration": 107,
    "start_time": "2022-08-02T12:30:53.698Z"
   },
   {
    "duration": 197,
    "start_time": "2022-08-02T12:52:30.790Z"
   },
   {
    "duration": 140,
    "start_time": "2022-08-02T12:58:19.367Z"
   },
   {
    "duration": 300,
    "start_time": "2022-08-02T12:58:49.188Z"
   },
   {
    "duration": 205,
    "start_time": "2022-08-02T12:59:20.353Z"
   },
   {
    "duration": 13,
    "start_time": "2022-08-02T12:59:36.032Z"
   },
   {
    "duration": 228,
    "start_time": "2022-08-02T12:59:52.540Z"
   },
   {
    "duration": 467,
    "start_time": "2022-08-02T13:06:48.714Z"
   },
   {
    "duration": 212,
    "start_time": "2022-08-02T13:07:08.834Z"
   },
   {
    "duration": 140,
    "start_time": "2022-08-02T13:13:26.833Z"
   },
   {
    "duration": 141,
    "start_time": "2022-08-02T13:14:06.024Z"
   },
   {
    "duration": 4,
    "start_time": "2022-08-02T13:15:24.136Z"
   },
   {
    "duration": 8,
    "start_time": "2022-08-02T13:15:45.593Z"
   },
   {
    "duration": 8,
    "start_time": "2022-08-02T13:16:28.030Z"
   },
   {
    "duration": 10,
    "start_time": "2022-08-02T13:18:49.039Z"
   },
   {
    "duration": 1305,
    "start_time": "2022-08-02T13:22:10.224Z"
   },
   {
    "duration": 44,
    "start_time": "2022-08-02T13:22:11.531Z"
   },
   {
    "duration": 4,
    "start_time": "2022-08-02T13:22:11.576Z"
   },
   {
    "duration": 6,
    "start_time": "2022-08-02T13:22:11.582Z"
   },
   {
    "duration": 60,
    "start_time": "2022-08-02T13:22:11.590Z"
   },
   {
    "duration": 20,
    "start_time": "2022-08-02T13:22:11.651Z"
   },
   {
    "duration": 3367,
    "start_time": "2022-08-02T13:22:11.672Z"
   },
   {
    "duration": 11,
    "start_time": "2022-08-02T13:22:15.041Z"
   },
   {
    "duration": 8,
    "start_time": "2022-08-02T13:22:15.053Z"
   },
   {
    "duration": 5,
    "start_time": "2022-08-02T13:22:15.063Z"
   },
   {
    "duration": 18,
    "start_time": "2022-08-02T13:22:15.069Z"
   },
   {
    "duration": 4,
    "start_time": "2022-08-02T13:22:15.088Z"
   },
   {
    "duration": 11,
    "start_time": "2022-08-02T13:22:15.094Z"
   },
   {
    "duration": 22,
    "start_time": "2022-08-02T13:22:15.108Z"
   },
   {
    "duration": 16,
    "start_time": "2022-08-02T13:22:15.131Z"
   },
   {
    "duration": 4,
    "start_time": "2022-08-02T13:22:15.148Z"
   },
   {
    "duration": 151,
    "start_time": "2022-08-02T13:22:15.153Z"
   },
   {
    "duration": 116,
    "start_time": "2022-08-02T14:42:38.359Z"
   },
   {
    "duration": 1375,
    "start_time": "2022-08-02T14:43:01.247Z"
   },
   {
    "duration": 50,
    "start_time": "2022-08-02T14:43:02.624Z"
   },
   {
    "duration": 5,
    "start_time": "2022-08-02T14:43:02.676Z"
   },
   {
    "duration": 10,
    "start_time": "2022-08-02T14:43:02.683Z"
   },
   {
    "duration": 73,
    "start_time": "2022-08-02T14:43:02.696Z"
   },
   {
    "duration": 28,
    "start_time": "2022-08-02T14:43:02.771Z"
   },
   {
    "duration": 3202,
    "start_time": "2022-08-02T14:43:02.801Z"
   },
   {
    "duration": 8,
    "start_time": "2022-08-02T14:43:06.004Z"
   },
   {
    "duration": 7,
    "start_time": "2022-08-02T14:43:06.013Z"
   },
   {
    "duration": 5,
    "start_time": "2022-08-02T14:43:06.021Z"
   },
   {
    "duration": 11,
    "start_time": "2022-08-02T14:43:06.028Z"
   },
   {
    "duration": 4,
    "start_time": "2022-08-02T14:43:06.041Z"
   },
   {
    "duration": 9,
    "start_time": "2022-08-02T14:43:06.046Z"
   },
   {
    "duration": 5,
    "start_time": "2022-08-02T14:43:06.058Z"
   },
   {
    "duration": 9,
    "start_time": "2022-08-02T14:43:06.065Z"
   },
   {
    "duration": 3,
    "start_time": "2022-08-02T14:43:06.076Z"
   },
   {
    "duration": 180,
    "start_time": "2022-08-02T14:43:06.080Z"
   },
   {
    "duration": 115,
    "start_time": "2022-08-02T14:43:06.262Z"
   },
   {
    "duration": 72,
    "start_time": "2022-08-02T14:43:45.196Z"
   },
   {
    "duration": 48,
    "start_time": "2022-08-02T15:31:04.130Z"
   },
   {
    "duration": 1832,
    "start_time": "2022-08-03T08:02:23.242Z"
   },
   {
    "duration": 153,
    "start_time": "2022-08-03T08:02:25.077Z"
   },
   {
    "duration": 8,
    "start_time": "2022-08-03T08:02:25.234Z"
   },
   {
    "duration": 36,
    "start_time": "2022-08-03T08:02:25.248Z"
   },
   {
    "duration": 81,
    "start_time": "2022-08-03T08:02:25.286Z"
   },
   {
    "duration": 24,
    "start_time": "2022-08-03T08:02:25.369Z"
   },
   {
    "duration": 4694,
    "start_time": "2022-08-03T08:02:25.395Z"
   },
   {
    "duration": 9,
    "start_time": "2022-08-03T08:02:30.091Z"
   },
   {
    "duration": 42,
    "start_time": "2022-08-03T08:02:30.102Z"
   },
   {
    "duration": 11,
    "start_time": "2022-08-03T08:02:30.147Z"
   },
   {
    "duration": 19,
    "start_time": "2022-08-03T08:02:30.160Z"
   },
   {
    "duration": 10,
    "start_time": "2022-08-03T08:02:30.182Z"
   },
   {
    "duration": 45,
    "start_time": "2022-08-03T08:02:30.193Z"
   },
   {
    "duration": 11,
    "start_time": "2022-08-03T08:02:30.241Z"
   },
   {
    "duration": 312,
    "start_time": "2022-08-03T08:02:30.254Z"
   },
   {
    "duration": 0,
    "start_time": "2022-08-03T08:02:30.568Z"
   },
   {
    "duration": 5,
    "start_time": "2022-08-03T08:20:41.726Z"
   },
   {
    "duration": 5,
    "start_time": "2022-08-03T08:20:44.130Z"
   },
   {
    "duration": 1499,
    "start_time": "2022-08-03T08:20:52.656Z"
   },
   {
    "duration": 56,
    "start_time": "2022-08-03T08:20:54.157Z"
   },
   {
    "duration": 15,
    "start_time": "2022-08-03T08:20:54.215Z"
   },
   {
    "duration": 12,
    "start_time": "2022-08-03T08:20:54.232Z"
   },
   {
    "duration": 81,
    "start_time": "2022-08-03T08:20:54.246Z"
   },
   {
    "duration": 32,
    "start_time": "2022-08-03T08:20:54.329Z"
   },
   {
    "duration": 4389,
    "start_time": "2022-08-03T08:20:54.363Z"
   },
   {
    "duration": 9,
    "start_time": "2022-08-03T08:20:58.755Z"
   },
   {
    "duration": 11,
    "start_time": "2022-08-03T08:20:58.766Z"
   },
   {
    "duration": 8,
    "start_time": "2022-08-03T08:20:58.780Z"
   },
   {
    "duration": 10,
    "start_time": "2022-08-03T08:20:58.790Z"
   },
   {
    "duration": 24,
    "start_time": "2022-08-03T08:20:58.812Z"
   },
   {
    "duration": 20,
    "start_time": "2022-08-03T08:20:58.837Z"
   },
   {
    "duration": 7,
    "start_time": "2022-08-03T08:20:58.859Z"
   },
   {
    "duration": 9,
    "start_time": "2022-08-03T08:20:58.868Z"
   },
   {
    "duration": 9,
    "start_time": "2022-08-03T08:20:58.879Z"
   },
   {
    "duration": 178,
    "start_time": "2022-08-03T08:20:58.890Z"
   },
   {
    "duration": 4,
    "start_time": "2022-08-03T08:29:44.769Z"
   },
   {
    "duration": 3,
    "start_time": "2022-08-03T08:29:45.733Z"
   },
   {
    "duration": 2,
    "start_time": "2022-08-03T08:29:46.681Z"
   },
   {
    "duration": 2,
    "start_time": "2022-08-03T08:29:47.609Z"
   },
   {
    "duration": 10,
    "start_time": "2022-08-03T08:29:49.012Z"
   },
   {
    "duration": 7,
    "start_time": "2022-08-03T08:30:11.948Z"
   },
   {
    "duration": 106,
    "start_time": "2022-08-03T08:30:13.669Z"
   },
   {
    "duration": 4,
    "start_time": "2022-08-03T08:30:25.480Z"
   },
   {
    "duration": 4,
    "start_time": "2022-08-03T08:31:23.546Z"
   },
   {
    "duration": 13,
    "start_time": "2022-08-03T08:43:52.997Z"
   },
   {
    "duration": 24,
    "start_time": "2022-08-03T08:44:04.889Z"
   },
   {
    "duration": 17,
    "start_time": "2022-08-03T08:44:05.843Z"
   },
   {
    "duration": 5,
    "start_time": "2022-08-03T08:44:06.716Z"
   },
   {
    "duration": 3,
    "start_time": "2022-08-03T08:44:35.461Z"
   },
   {
    "duration": 5,
    "start_time": "2022-08-03T08:45:00.957Z"
   },
   {
    "duration": 6,
    "start_time": "2022-08-03T08:48:05.554Z"
   },
   {
    "duration": 6,
    "start_time": "2022-08-03T08:49:26.891Z"
   },
   {
    "duration": 8,
    "start_time": "2022-08-03T08:52:04.944Z"
   },
   {
    "duration": 3,
    "start_time": "2022-08-03T08:55:54.092Z"
   },
   {
    "duration": 11,
    "start_time": "2022-08-03T08:56:41.732Z"
   },
   {
    "duration": 88,
    "start_time": "2022-08-03T08:57:34.717Z"
   },
   {
    "duration": 27,
    "start_time": "2022-08-03T08:57:46.791Z"
   },
   {
    "duration": 37,
    "start_time": "2022-08-03T08:58:00.691Z"
   },
   {
    "duration": 1325,
    "start_time": "2022-08-03T09:00:46.992Z"
   },
   {
    "duration": 44,
    "start_time": "2022-08-03T09:00:48.319Z"
   },
   {
    "duration": 4,
    "start_time": "2022-08-03T09:00:48.364Z"
   },
   {
    "duration": 15,
    "start_time": "2022-08-03T09:00:48.370Z"
   },
   {
    "duration": 61,
    "start_time": "2022-08-03T09:00:48.386Z"
   },
   {
    "duration": 20,
    "start_time": "2022-08-03T09:00:48.448Z"
   },
   {
    "duration": 3375,
    "start_time": "2022-08-03T09:00:48.469Z"
   },
   {
    "duration": 8,
    "start_time": "2022-08-03T09:00:51.845Z"
   },
   {
    "duration": 12,
    "start_time": "2022-08-03T09:00:51.855Z"
   },
   {
    "duration": 7,
    "start_time": "2022-08-03T09:00:51.868Z"
   },
   {
    "duration": 7,
    "start_time": "2022-08-03T09:00:51.877Z"
   },
   {
    "duration": 7,
    "start_time": "2022-08-03T09:00:51.885Z"
   },
   {
    "duration": 6,
    "start_time": "2022-08-03T09:00:51.894Z"
   },
   {
    "duration": 21,
    "start_time": "2022-08-03T09:00:51.901Z"
   },
   {
    "duration": 5,
    "start_time": "2022-08-03T09:00:51.924Z"
   },
   {
    "duration": 91,
    "start_time": "2022-08-03T09:00:51.930Z"
   },
   {
    "duration": 6,
    "start_time": "2022-08-03T10:00:48.442Z"
   },
   {
    "duration": 5,
    "start_time": "2022-08-03T10:01:35.772Z"
   },
   {
    "duration": 8,
    "start_time": "2022-08-03T10:03:36.640Z"
   },
   {
    "duration": 7,
    "start_time": "2022-08-03T10:04:31.215Z"
   },
   {
    "duration": 2,
    "start_time": "2022-08-03T10:05:28.037Z"
   },
   {
    "duration": 4,
    "start_time": "2022-08-03T10:09:52.846Z"
   },
   {
    "duration": 5,
    "start_time": "2022-08-03T10:10:57.432Z"
   },
   {
    "duration": 5,
    "start_time": "2022-08-03T10:11:02.474Z"
   },
   {
    "duration": 4,
    "start_time": "2022-08-03T10:11:06.188Z"
   },
   {
    "duration": 101,
    "start_time": "2022-08-03T10:13:33.205Z"
   },
   {
    "duration": 5,
    "start_time": "2022-08-03T10:19:28.392Z"
   },
   {
    "duration": 4,
    "start_time": "2022-08-03T10:20:12.194Z"
   },
   {
    "duration": 12,
    "start_time": "2022-08-03T10:21:25.244Z"
   },
   {
    "duration": 6,
    "start_time": "2022-08-03T10:22:08.543Z"
   },
   {
    "duration": 3,
    "start_time": "2022-08-03T10:22:47.171Z"
   },
   {
    "duration": 5,
    "start_time": "2022-08-03T10:23:41.740Z"
   },
   {
    "duration": 5,
    "start_time": "2022-08-03T10:24:24.193Z"
   },
   {
    "duration": 4,
    "start_time": "2022-08-03T10:24:39.606Z"
   },
   {
    "duration": 8,
    "start_time": "2022-08-03T10:28:18.425Z"
   },
   {
    "duration": 21,
    "start_time": "2022-08-03T10:28:37.840Z"
   },
   {
    "duration": 17,
    "start_time": "2022-08-04T13:39:06.441Z"
   },
   {
    "duration": 45,
    "start_time": "2022-08-04T13:40:19.257Z"
   },
   {
    "duration": 1532,
    "start_time": "2022-08-04T13:40:27.313Z"
   },
   {
    "duration": 96,
    "start_time": "2022-08-04T13:40:28.847Z"
   },
   {
    "duration": 4,
    "start_time": "2022-08-04T13:40:28.945Z"
   },
   {
    "duration": 9,
    "start_time": "2022-08-04T13:40:28.951Z"
   },
   {
    "duration": 61,
    "start_time": "2022-08-04T13:40:28.961Z"
   },
   {
    "duration": 22,
    "start_time": "2022-08-04T13:40:29.023Z"
   },
   {
    "duration": 3611,
    "start_time": "2022-08-04T13:40:29.047Z"
   },
   {
    "duration": 8,
    "start_time": "2022-08-04T13:40:32.660Z"
   },
   {
    "duration": 8,
    "start_time": "2022-08-04T13:40:32.669Z"
   },
   {
    "duration": 17,
    "start_time": "2022-08-04T13:40:32.679Z"
   },
   {
    "duration": 23,
    "start_time": "2022-08-04T13:40:32.697Z"
   },
   {
    "duration": 22,
    "start_time": "2022-08-04T13:40:32.722Z"
   },
   {
    "duration": 27,
    "start_time": "2022-08-04T13:40:32.745Z"
   },
   {
    "duration": 21,
    "start_time": "2022-08-04T13:40:32.774Z"
   },
   {
    "duration": 23,
    "start_time": "2022-08-04T13:40:32.797Z"
   },
   {
    "duration": 27,
    "start_time": "2022-08-04T13:40:32.821Z"
   },
   {
    "duration": 14,
    "start_time": "2022-08-04T13:40:32.850Z"
   },
   {
    "duration": 218,
    "start_time": "2022-08-04T13:40:32.890Z"
   },
   {
    "duration": 88,
    "start_time": "2022-08-04T13:40:33.110Z"
   },
   {
    "duration": 107,
    "start_time": "2022-08-04T13:40:33.200Z"
   },
   {
    "duration": 11,
    "start_time": "2022-08-04T13:40:33.309Z"
   },
   {
    "duration": 12,
    "start_time": "2022-08-04T13:40:33.321Z"
   },
   {
    "duration": 6,
    "start_time": "2022-08-04T13:40:33.334Z"
   },
   {
    "duration": 14,
    "start_time": "2022-08-04T13:40:33.341Z"
   },
   {
    "duration": 6,
    "start_time": "2022-08-04T13:40:33.357Z"
   },
   {
    "duration": 7,
    "start_time": "2022-08-04T13:40:33.364Z"
   },
   {
    "duration": 6,
    "start_time": "2022-08-04T13:40:33.373Z"
   },
   {
    "duration": 25,
    "start_time": "2022-08-04T13:40:33.383Z"
   },
   {
    "duration": 5,
    "start_time": "2022-08-04T13:40:33.410Z"
   },
   {
    "duration": 4,
    "start_time": "2022-08-04T13:40:33.416Z"
   },
   {
    "duration": 6,
    "start_time": "2022-08-04T13:40:33.421Z"
   },
   {
    "duration": 8,
    "start_time": "2022-08-04T13:42:34.184Z"
   },
   {
    "duration": 135,
    "start_time": "2022-08-04T13:44:36.182Z"
   },
   {
    "duration": 1425,
    "start_time": "2022-08-04T13:45:18.792Z"
   },
   {
    "duration": 44,
    "start_time": "2022-08-04T13:45:20.219Z"
   },
   {
    "duration": 4,
    "start_time": "2022-08-04T13:45:20.265Z"
   },
   {
    "duration": 10,
    "start_time": "2022-08-04T13:45:20.271Z"
   },
   {
    "duration": 79,
    "start_time": "2022-08-04T13:45:20.283Z"
   },
   {
    "duration": 29,
    "start_time": "2022-08-04T13:45:20.364Z"
   },
   {
    "duration": 3672,
    "start_time": "2022-08-04T13:45:20.394Z"
   },
   {
    "duration": 10,
    "start_time": "2022-08-04T13:45:24.068Z"
   },
   {
    "duration": 21,
    "start_time": "2022-08-04T13:45:24.080Z"
   },
   {
    "duration": 6,
    "start_time": "2022-08-04T13:45:24.104Z"
   },
   {
    "duration": 8,
    "start_time": "2022-08-04T13:45:24.111Z"
   },
   {
    "duration": 7,
    "start_time": "2022-08-04T13:45:24.120Z"
   },
   {
    "duration": 8,
    "start_time": "2022-08-04T13:45:24.128Z"
   },
   {
    "duration": 16,
    "start_time": "2022-08-04T13:45:24.138Z"
   },
   {
    "duration": 6,
    "start_time": "2022-08-04T13:45:24.155Z"
   },
   {
    "duration": 25,
    "start_time": "2022-08-04T13:45:24.163Z"
   },
   {
    "duration": 21,
    "start_time": "2022-08-04T13:45:24.191Z"
   },
   {
    "duration": 293,
    "start_time": "2022-08-04T13:45:24.214Z"
   },
   {
    "duration": 87,
    "start_time": "2022-08-04T13:45:24.509Z"
   },
   {
    "duration": 93,
    "start_time": "2022-08-04T13:45:24.597Z"
   },
   {
    "duration": 15,
    "start_time": "2022-08-04T13:45:24.691Z"
   },
   {
    "duration": 16,
    "start_time": "2022-08-04T13:45:24.708Z"
   },
   {
    "duration": 5,
    "start_time": "2022-08-04T13:45:24.726Z"
   },
   {
    "duration": 12,
    "start_time": "2022-08-04T13:45:24.732Z"
   },
   {
    "duration": 7,
    "start_time": "2022-08-04T13:45:24.746Z"
   },
   {
    "duration": 10,
    "start_time": "2022-08-04T13:45:24.754Z"
   },
   {
    "duration": 11,
    "start_time": "2022-08-04T13:45:24.765Z"
   },
   {
    "duration": 15,
    "start_time": "2022-08-04T13:45:24.778Z"
   },
   {
    "duration": 14,
    "start_time": "2022-08-04T13:45:24.799Z"
   },
   {
    "duration": 22,
    "start_time": "2022-08-04T13:45:24.815Z"
   },
   {
    "duration": 8,
    "start_time": "2022-08-04T13:45:24.838Z"
   },
   {
    "duration": 3,
    "start_time": "2022-08-04T13:47:05.728Z"
   },
   {
    "duration": 6,
    "start_time": "2022-08-04T13:47:08.547Z"
   },
   {
    "duration": 6,
    "start_time": "2022-08-04T13:47:26.397Z"
   },
   {
    "duration": 7,
    "start_time": "2022-08-04T13:47:27.258Z"
   },
   {
    "duration": 6,
    "start_time": "2022-08-04T13:48:29.725Z"
   },
   {
    "duration": 1322,
    "start_time": "2022-08-04T13:51:18.322Z"
   },
   {
    "duration": 48,
    "start_time": "2022-08-04T13:51:19.646Z"
   },
   {
    "duration": 6,
    "start_time": "2022-08-04T13:51:19.696Z"
   },
   {
    "duration": 6,
    "start_time": "2022-08-04T13:51:19.704Z"
   },
   {
    "duration": 58,
    "start_time": "2022-08-04T13:51:19.712Z"
   },
   {
    "duration": 25,
    "start_time": "2022-08-04T13:51:19.788Z"
   },
   {
    "duration": 3716,
    "start_time": "2022-08-04T13:51:19.814Z"
   },
   {
    "duration": 9,
    "start_time": "2022-08-04T13:51:23.532Z"
   },
   {
    "duration": 16,
    "start_time": "2022-08-04T13:51:23.542Z"
   },
   {
    "duration": 20,
    "start_time": "2022-08-04T13:51:23.561Z"
   },
   {
    "duration": 18,
    "start_time": "2022-08-04T13:51:23.583Z"
   },
   {
    "duration": 21,
    "start_time": "2022-08-04T13:51:23.603Z"
   },
   {
    "duration": 20,
    "start_time": "2022-08-04T13:51:23.625Z"
   },
   {
    "duration": 18,
    "start_time": "2022-08-04T13:51:23.646Z"
   },
   {
    "duration": 13,
    "start_time": "2022-08-04T13:51:23.666Z"
   },
   {
    "duration": 31,
    "start_time": "2022-08-04T13:51:23.681Z"
   },
   {
    "duration": 10,
    "start_time": "2022-08-04T13:51:23.715Z"
   },
   {
    "duration": 373,
    "start_time": "2022-08-04T13:51:23.728Z"
   },
   {
    "duration": 95,
    "start_time": "2022-08-04T13:51:24.107Z"
   },
   {
    "duration": 101,
    "start_time": "2022-08-04T13:51:24.203Z"
   },
   {
    "duration": 29,
    "start_time": "2022-08-04T13:51:24.307Z"
   },
   {
    "duration": 12,
    "start_time": "2022-08-04T13:51:24.338Z"
   },
   {
    "duration": 26,
    "start_time": "2022-08-04T13:51:24.351Z"
   },
   {
    "duration": 24,
    "start_time": "2022-08-04T13:51:24.379Z"
   },
   {
    "duration": 30,
    "start_time": "2022-08-04T13:51:24.405Z"
   },
   {
    "duration": 10,
    "start_time": "2022-08-04T13:51:24.437Z"
   },
   {
    "duration": 5,
    "start_time": "2022-08-04T13:51:24.449Z"
   },
   {
    "duration": 11,
    "start_time": "2022-08-04T13:51:24.457Z"
   },
   {
    "duration": 5,
    "start_time": "2022-08-04T13:51:24.470Z"
   },
   {
    "duration": 3,
    "start_time": "2022-08-04T13:51:24.477Z"
   },
   {
    "duration": 9,
    "start_time": "2022-08-04T13:51:24.481Z"
   },
   {
    "duration": 1552,
    "start_time": "2022-08-05T10:32:22.742Z"
   },
   {
    "duration": 94,
    "start_time": "2022-08-05T10:32:24.295Z"
   },
   {
    "duration": 5,
    "start_time": "2022-08-05T10:32:24.391Z"
   },
   {
    "duration": 8,
    "start_time": "2022-08-05T10:32:24.398Z"
   },
   {
    "duration": 67,
    "start_time": "2022-08-05T10:32:24.407Z"
   },
   {
    "duration": 23,
    "start_time": "2022-08-05T10:32:24.476Z"
   },
   {
    "duration": 3484,
    "start_time": "2022-08-05T10:32:24.501Z"
   },
   {
    "duration": 7,
    "start_time": "2022-08-05T10:32:27.987Z"
   },
   {
    "duration": 30,
    "start_time": "2022-08-05T10:32:27.996Z"
   },
   {
    "duration": 14,
    "start_time": "2022-08-05T10:32:28.029Z"
   },
   {
    "duration": 22,
    "start_time": "2022-08-05T10:32:28.044Z"
   },
   {
    "duration": 22,
    "start_time": "2022-08-05T10:32:28.067Z"
   },
   {
    "duration": 9,
    "start_time": "2022-08-05T10:32:28.090Z"
   },
   {
    "duration": 22,
    "start_time": "2022-08-05T10:32:28.100Z"
   },
   {
    "duration": 10,
    "start_time": "2022-08-05T10:32:28.123Z"
   },
   {
    "duration": 28,
    "start_time": "2022-08-05T10:32:28.134Z"
   },
   {
    "duration": 12,
    "start_time": "2022-08-05T10:32:28.163Z"
   },
   {
    "duration": 379,
    "start_time": "2022-08-05T10:32:28.176Z"
   },
   {
    "duration": 101,
    "start_time": "2022-08-05T10:32:28.557Z"
   },
   {
    "duration": 15,
    "start_time": "2022-08-05T10:32:28.660Z"
   },
   {
    "duration": 24,
    "start_time": "2022-08-05T10:32:28.676Z"
   },
   {
    "duration": 21,
    "start_time": "2022-08-05T10:32:28.702Z"
   },
   {
    "duration": 31,
    "start_time": "2022-08-05T10:32:28.724Z"
   },
   {
    "duration": 6,
    "start_time": "2022-08-05T10:32:28.757Z"
   },
   {
    "duration": 21,
    "start_time": "2022-08-05T10:32:28.764Z"
   },
   {
    "duration": 23,
    "start_time": "2022-08-05T10:32:28.787Z"
   },
   {
    "duration": 24,
    "start_time": "2022-08-05T10:32:28.811Z"
   },
   {
    "duration": 42,
    "start_time": "2022-08-05T10:32:28.837Z"
   },
   {
    "duration": 12,
    "start_time": "2022-08-05T10:32:28.880Z"
   },
   {
    "duration": 29,
    "start_time": "2022-08-05T10:32:28.893Z"
   },
   {
    "duration": 20,
    "start_time": "2022-08-05T10:32:28.925Z"
   },
   {
    "duration": 1360,
    "start_time": "2022-08-05T10:44:22.761Z"
   },
   {
    "duration": 44,
    "start_time": "2022-08-05T10:44:24.123Z"
   },
   {
    "duration": 5,
    "start_time": "2022-08-05T10:44:24.169Z"
   },
   {
    "duration": 6,
    "start_time": "2022-08-05T10:44:24.176Z"
   },
   {
    "duration": 78,
    "start_time": "2022-08-05T10:44:24.183Z"
   },
   {
    "duration": 21,
    "start_time": "2022-08-05T10:44:24.263Z"
   },
   {
    "duration": 3395,
    "start_time": "2022-08-05T10:44:24.286Z"
   },
   {
    "duration": 8,
    "start_time": "2022-08-05T10:44:27.683Z"
   },
   {
    "duration": 8,
    "start_time": "2022-08-05T10:44:27.692Z"
   },
   {
    "duration": 3,
    "start_time": "2022-08-05T10:44:27.703Z"
   },
   {
    "duration": 6,
    "start_time": "2022-08-05T10:44:27.708Z"
   },
   {
    "duration": 6,
    "start_time": "2022-08-05T10:44:27.715Z"
   },
   {
    "duration": 5,
    "start_time": "2022-08-05T10:44:27.723Z"
   },
   {
    "duration": 8,
    "start_time": "2022-08-05T10:44:27.729Z"
   },
   {
    "duration": 4,
    "start_time": "2022-08-05T10:44:27.738Z"
   },
   {
    "duration": 14,
    "start_time": "2022-08-05T10:44:27.743Z"
   },
   {
    "duration": 4,
    "start_time": "2022-08-05T10:44:27.758Z"
   },
   {
    "duration": 198,
    "start_time": "2022-08-05T10:44:27.764Z"
   },
   {
    "duration": 192,
    "start_time": "2022-08-05T10:44:27.964Z"
   },
   {
    "duration": 6,
    "start_time": "2022-08-05T10:44:28.158Z"
   },
   {
    "duration": 6,
    "start_time": "2022-08-05T10:44:28.165Z"
   },
   {
    "duration": 12,
    "start_time": "2022-08-05T10:44:28.172Z"
   },
   {
    "duration": 8,
    "start_time": "2022-08-05T10:44:28.185Z"
   },
   {
    "duration": 4,
    "start_time": "2022-08-05T10:44:28.194Z"
   },
   {
    "duration": 7,
    "start_time": "2022-08-05T10:44:28.199Z"
   },
   {
    "duration": 8,
    "start_time": "2022-08-05T10:44:28.208Z"
   },
   {
    "duration": 5,
    "start_time": "2022-08-05T10:44:28.217Z"
   },
   {
    "duration": 32,
    "start_time": "2022-08-05T10:44:28.225Z"
   },
   {
    "duration": 5,
    "start_time": "2022-08-05T10:44:28.259Z"
   },
   {
    "duration": 6,
    "start_time": "2022-08-05T10:44:28.265Z"
   },
   {
    "duration": 20,
    "start_time": "2022-08-05T10:44:28.273Z"
   }
  ],
  "kernelspec": {
   "display_name": "Python 3 (ipykernel)",
   "language": "python",
   "name": "python3"
  },
  "language_info": {
   "codemirror_mode": {
    "name": "ipython",
    "version": 3
   },
   "file_extension": ".py",
   "mimetype": "text/x-python",
   "name": "python",
   "nbconvert_exporter": "python",
   "pygments_lexer": "ipython3",
   "version": "3.9.5"
  },
  "toc": {
   "base_numbering": 1,
   "nav_menu": {},
   "number_sections": true,
   "sideBar": true,
   "skip_h1_title": true,
   "title_cell": "Содержание",
   "title_sidebar": "Contents",
   "toc_cell": true,
   "toc_position": {},
   "toc_section_display": true,
   "toc_window_display": true
  }
 },
 "nbformat": 4,
 "nbformat_minor": 2
}
